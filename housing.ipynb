{
 "cells": [
  {
   "cell_type": "markdown",
   "id": "6f029df0",
   "metadata": {},
   "source": [
    "# California housing prices.\n",
    "The median house prices for California districts were obtained from the 1990 census."
   ]
  },
  {
   "cell_type": "code",
   "execution_count": 13,
   "id": "initial_id",
   "metadata": {
    "ExecuteTime": {
     "end_time": "2023-08-17T06:47:50.059918Z",
     "start_time": "2023-08-17T06:47:48.957912Z"
    }
   },
   "outputs": [],
   "source": [
    "import pandas as pd\n",
    "import numpy as np\n",
    "import matplotlib.pyplot as plt\n",
    "import warnings\n",
    "from scipy import stats\n",
    "from sklearn.model_selection import StratifiedShuffleSplit\n",
    "from sklearn.model_selection import RandomizedSearchCV\n",
    "from scipy.stats import randint\n",
    "from sklearn.model_selection import GridSearchCV\n",
    "from sklearn.ensemble import RandomForestRegressor\n",
    "from sklearn.model_selection import cross_val_score\n",
    "from sklearn.tree import DecisionTreeRegressor\n",
    "from sklearn.metrics import mean_squared_error, mean_absolute_error\n",
    "from sklearn.linear_model import LinearRegression\n",
    "from sklearn.preprocessing import StandardScaler\n",
    "from sklearn.pipeline import Pipeline\n",
    "from sklearn.compose import ColumnTransformer\n",
    "from pandas.plotting import scatter_matrix\n",
    "\n",
    "warnings.filterwarnings(\"ignore\")\n",
    "%matplotlib inline"
   ]
  },
  {
   "cell_type": "code",
   "execution_count": 14,
   "id": "c3ad0033b51fb4e1",
   "metadata": {
    "ExecuteTime": {
     "end_time": "2023-08-17T06:47:50.135080Z",
     "start_time": "2023-08-17T06:47:49.105274Z"
    }
   },
   "outputs": [
    {
     "data": {
      "text/html": [
       "<div>\n",
       "<style scoped>\n",
       "    .dataframe tbody tr th:only-of-type {\n",
       "        vertical-align: middle;\n",
       "    }\n",
       "\n",
       "    .dataframe tbody tr th {\n",
       "        vertical-align: top;\n",
       "    }\n",
       "\n",
       "    .dataframe thead th {\n",
       "        text-align: right;\n",
       "    }\n",
       "</style>\n",
       "<table border=\"1\" class=\"dataframe\">\n",
       "  <thead>\n",
       "    <tr style=\"text-align: right;\">\n",
       "      <th></th>\n",
       "      <th>price</th>\n",
       "      <th>area</th>\n",
       "      <th>bedrooms</th>\n",
       "      <th>bathrooms</th>\n",
       "      <th>stories</th>\n",
       "      <th>mainroad</th>\n",
       "      <th>guestroom</th>\n",
       "      <th>basement</th>\n",
       "      <th>hotwaterheating</th>\n",
       "      <th>airconditioning</th>\n",
       "      <th>parking</th>\n",
       "      <th>prefarea</th>\n",
       "      <th>furnishingstatus</th>\n",
       "    </tr>\n",
       "  </thead>\n",
       "  <tbody>\n",
       "    <tr>\n",
       "      <th>0</th>\n",
       "      <td>13300000</td>\n",
       "      <td>7420</td>\n",
       "      <td>4</td>\n",
       "      <td>2</td>\n",
       "      <td>3</td>\n",
       "      <td>yes</td>\n",
       "      <td>no</td>\n",
       "      <td>no</td>\n",
       "      <td>no</td>\n",
       "      <td>yes</td>\n",
       "      <td>2</td>\n",
       "      <td>yes</td>\n",
       "      <td>furnished</td>\n",
       "    </tr>\n",
       "    <tr>\n",
       "      <th>1</th>\n",
       "      <td>12250000</td>\n",
       "      <td>8960</td>\n",
       "      <td>4</td>\n",
       "      <td>4</td>\n",
       "      <td>4</td>\n",
       "      <td>yes</td>\n",
       "      <td>no</td>\n",
       "      <td>no</td>\n",
       "      <td>no</td>\n",
       "      <td>yes</td>\n",
       "      <td>3</td>\n",
       "      <td>no</td>\n",
       "      <td>furnished</td>\n",
       "    </tr>\n",
       "    <tr>\n",
       "      <th>2</th>\n",
       "      <td>12250000</td>\n",
       "      <td>9960</td>\n",
       "      <td>3</td>\n",
       "      <td>2</td>\n",
       "      <td>2</td>\n",
       "      <td>yes</td>\n",
       "      <td>no</td>\n",
       "      <td>yes</td>\n",
       "      <td>no</td>\n",
       "      <td>no</td>\n",
       "      <td>2</td>\n",
       "      <td>yes</td>\n",
       "      <td>semi-furnished</td>\n",
       "    </tr>\n",
       "    <tr>\n",
       "      <th>3</th>\n",
       "      <td>12215000</td>\n",
       "      <td>7500</td>\n",
       "      <td>4</td>\n",
       "      <td>2</td>\n",
       "      <td>2</td>\n",
       "      <td>yes</td>\n",
       "      <td>no</td>\n",
       "      <td>yes</td>\n",
       "      <td>no</td>\n",
       "      <td>yes</td>\n",
       "      <td>3</td>\n",
       "      <td>yes</td>\n",
       "      <td>furnished</td>\n",
       "    </tr>\n",
       "    <tr>\n",
       "      <th>4</th>\n",
       "      <td>11410000</td>\n",
       "      <td>7420</td>\n",
       "      <td>4</td>\n",
       "      <td>1</td>\n",
       "      <td>2</td>\n",
       "      <td>yes</td>\n",
       "      <td>yes</td>\n",
       "      <td>yes</td>\n",
       "      <td>no</td>\n",
       "      <td>yes</td>\n",
       "      <td>2</td>\n",
       "      <td>no</td>\n",
       "      <td>furnished</td>\n",
       "    </tr>\n",
       "    <tr>\n",
       "      <th>...</th>\n",
       "      <td>...</td>\n",
       "      <td>...</td>\n",
       "      <td>...</td>\n",
       "      <td>...</td>\n",
       "      <td>...</td>\n",
       "      <td>...</td>\n",
       "      <td>...</td>\n",
       "      <td>...</td>\n",
       "      <td>...</td>\n",
       "      <td>...</td>\n",
       "      <td>...</td>\n",
       "      <td>...</td>\n",
       "      <td>...</td>\n",
       "    </tr>\n",
       "    <tr>\n",
       "      <th>540</th>\n",
       "      <td>1820000</td>\n",
       "      <td>3000</td>\n",
       "      <td>2</td>\n",
       "      <td>1</td>\n",
       "      <td>1</td>\n",
       "      <td>yes</td>\n",
       "      <td>no</td>\n",
       "      <td>yes</td>\n",
       "      <td>no</td>\n",
       "      <td>no</td>\n",
       "      <td>2</td>\n",
       "      <td>no</td>\n",
       "      <td>unfurnished</td>\n",
       "    </tr>\n",
       "    <tr>\n",
       "      <th>541</th>\n",
       "      <td>1767150</td>\n",
       "      <td>2400</td>\n",
       "      <td>3</td>\n",
       "      <td>1</td>\n",
       "      <td>1</td>\n",
       "      <td>no</td>\n",
       "      <td>no</td>\n",
       "      <td>no</td>\n",
       "      <td>no</td>\n",
       "      <td>no</td>\n",
       "      <td>0</td>\n",
       "      <td>no</td>\n",
       "      <td>semi-furnished</td>\n",
       "    </tr>\n",
       "    <tr>\n",
       "      <th>542</th>\n",
       "      <td>1750000</td>\n",
       "      <td>3620</td>\n",
       "      <td>2</td>\n",
       "      <td>1</td>\n",
       "      <td>1</td>\n",
       "      <td>yes</td>\n",
       "      <td>no</td>\n",
       "      <td>no</td>\n",
       "      <td>no</td>\n",
       "      <td>no</td>\n",
       "      <td>0</td>\n",
       "      <td>no</td>\n",
       "      <td>unfurnished</td>\n",
       "    </tr>\n",
       "    <tr>\n",
       "      <th>543</th>\n",
       "      <td>1750000</td>\n",
       "      <td>2910</td>\n",
       "      <td>3</td>\n",
       "      <td>1</td>\n",
       "      <td>1</td>\n",
       "      <td>no</td>\n",
       "      <td>no</td>\n",
       "      <td>no</td>\n",
       "      <td>no</td>\n",
       "      <td>no</td>\n",
       "      <td>0</td>\n",
       "      <td>no</td>\n",
       "      <td>furnished</td>\n",
       "    </tr>\n",
       "    <tr>\n",
       "      <th>544</th>\n",
       "      <td>1750000</td>\n",
       "      <td>3850</td>\n",
       "      <td>3</td>\n",
       "      <td>1</td>\n",
       "      <td>2</td>\n",
       "      <td>yes</td>\n",
       "      <td>no</td>\n",
       "      <td>no</td>\n",
       "      <td>no</td>\n",
       "      <td>no</td>\n",
       "      <td>0</td>\n",
       "      <td>no</td>\n",
       "      <td>unfurnished</td>\n",
       "    </tr>\n",
       "  </tbody>\n",
       "</table>\n",
       "<p>545 rows × 13 columns</p>\n",
       "</div>"
      ],
      "text/plain": [
       "        price  area  bedrooms  bathrooms  stories mainroad guestroom basement  \\\n",
       "0    13300000  7420         4          2        3      yes        no       no   \n",
       "1    12250000  8960         4          4        4      yes        no       no   \n",
       "2    12250000  9960         3          2        2      yes        no      yes   \n",
       "3    12215000  7500         4          2        2      yes        no      yes   \n",
       "4    11410000  7420         4          1        2      yes       yes      yes   \n",
       "..        ...   ...       ...        ...      ...      ...       ...      ...   \n",
       "540   1820000  3000         2          1        1      yes        no      yes   \n",
       "541   1767150  2400         3          1        1       no        no       no   \n",
       "542   1750000  3620         2          1        1      yes        no       no   \n",
       "543   1750000  2910         3          1        1       no        no       no   \n",
       "544   1750000  3850         3          1        2      yes        no       no   \n",
       "\n",
       "    hotwaterheating airconditioning  parking prefarea furnishingstatus  \n",
       "0                no             yes        2      yes        furnished  \n",
       "1                no             yes        3       no        furnished  \n",
       "2                no              no        2      yes   semi-furnished  \n",
       "3                no             yes        3      yes        furnished  \n",
       "4                no             yes        2       no        furnished  \n",
       "..              ...             ...      ...      ...              ...  \n",
       "540              no              no        2       no      unfurnished  \n",
       "541              no              no        0       no   semi-furnished  \n",
       "542              no              no        0       no      unfurnished  \n",
       "543              no              no        0       no        furnished  \n",
       "544              no              no        0       no      unfurnished  \n",
       "\n",
       "[545 rows x 13 columns]"
      ]
     },
     "execution_count": 14,
     "metadata": {},
     "output_type": "execute_result"
    }
   ],
   "source": [
    "# Reading the dataset\n",
    "\n",
    "housing = pd.read_csv(\"./data/Housing.csv\")\n",
    "housing"
   ]
  },
  {
   "cell_type": "code",
   "execution_count": 15,
   "id": "ce2418e844d87220",
   "metadata": {
    "ExecuteTime": {
     "end_time": "2023-08-17T06:47:50.136211Z",
     "start_time": "2023-08-17T06:47:49.214878Z"
    }
   },
   "outputs": [
    {
     "name": "stdout",
     "output_type": "stream",
     "text": [
      "<class 'pandas.core.frame.DataFrame'>\n",
      "RangeIndex: 545 entries, 0 to 544\n",
      "Data columns (total 13 columns):\n",
      " #   Column            Non-Null Count  Dtype \n",
      "---  ------            --------------  ----- \n",
      " 0   price             545 non-null    int64 \n",
      " 1   area              545 non-null    int64 \n",
      " 2   bedrooms          545 non-null    int64 \n",
      " 3   bathrooms         545 non-null    int64 \n",
      " 4   stories           545 non-null    int64 \n",
      " 5   mainroad          545 non-null    object\n",
      " 6   guestroom         545 non-null    object\n",
      " 7   basement          545 non-null    object\n",
      " 8   hotwaterheating   545 non-null    object\n",
      " 9   airconditioning   545 non-null    object\n",
      " 10  parking           545 non-null    int64 \n",
      " 11  prefarea          545 non-null    object\n",
      " 12  furnishingstatus  545 non-null    object\n",
      "dtypes: int64(6), object(7)\n",
      "memory usage: 55.5+ KB\n"
     ]
    }
   ],
   "source": [
    "housing.info()"
   ]
  },
  {
   "cell_type": "code",
   "execution_count": 16,
   "id": "b99f29a172b58329",
   "metadata": {
    "ExecuteTime": {
     "end_time": "2023-08-17T06:47:50.137047Z",
     "start_time": "2023-08-17T06:47:49.228155Z"
    }
   },
   "outputs": [
    {
     "data": {
      "text/html": [
       "<div>\n",
       "<style scoped>\n",
       "    .dataframe tbody tr th:only-of-type {\n",
       "        vertical-align: middle;\n",
       "    }\n",
       "\n",
       "    .dataframe tbody tr th {\n",
       "        vertical-align: top;\n",
       "    }\n",
       "\n",
       "    .dataframe thead th {\n",
       "        text-align: right;\n",
       "    }\n",
       "</style>\n",
       "<table border=\"1\" class=\"dataframe\">\n",
       "  <thead>\n",
       "    <tr style=\"text-align: right;\">\n",
       "      <th></th>\n",
       "      <th>price</th>\n",
       "      <th>area</th>\n",
       "      <th>bedrooms</th>\n",
       "      <th>bathrooms</th>\n",
       "      <th>stories</th>\n",
       "      <th>parking</th>\n",
       "    </tr>\n",
       "  </thead>\n",
       "  <tbody>\n",
       "    <tr>\n",
       "      <th>count</th>\n",
       "      <td>5.450000e+02</td>\n",
       "      <td>545.000000</td>\n",
       "      <td>545.000000</td>\n",
       "      <td>545.000000</td>\n",
       "      <td>545.000000</td>\n",
       "      <td>545.000000</td>\n",
       "    </tr>\n",
       "    <tr>\n",
       "      <th>mean</th>\n",
       "      <td>4.766729e+06</td>\n",
       "      <td>5150.541284</td>\n",
       "      <td>2.965138</td>\n",
       "      <td>1.286239</td>\n",
       "      <td>1.805505</td>\n",
       "      <td>0.693578</td>\n",
       "    </tr>\n",
       "    <tr>\n",
       "      <th>std</th>\n",
       "      <td>1.870440e+06</td>\n",
       "      <td>2170.141023</td>\n",
       "      <td>0.738064</td>\n",
       "      <td>0.502470</td>\n",
       "      <td>0.867492</td>\n",
       "      <td>0.861586</td>\n",
       "    </tr>\n",
       "    <tr>\n",
       "      <th>min</th>\n",
       "      <td>1.750000e+06</td>\n",
       "      <td>1650.000000</td>\n",
       "      <td>1.000000</td>\n",
       "      <td>1.000000</td>\n",
       "      <td>1.000000</td>\n",
       "      <td>0.000000</td>\n",
       "    </tr>\n",
       "    <tr>\n",
       "      <th>25%</th>\n",
       "      <td>3.430000e+06</td>\n",
       "      <td>3600.000000</td>\n",
       "      <td>2.000000</td>\n",
       "      <td>1.000000</td>\n",
       "      <td>1.000000</td>\n",
       "      <td>0.000000</td>\n",
       "    </tr>\n",
       "    <tr>\n",
       "      <th>50%</th>\n",
       "      <td>4.340000e+06</td>\n",
       "      <td>4600.000000</td>\n",
       "      <td>3.000000</td>\n",
       "      <td>1.000000</td>\n",
       "      <td>2.000000</td>\n",
       "      <td>0.000000</td>\n",
       "    </tr>\n",
       "    <tr>\n",
       "      <th>75%</th>\n",
       "      <td>5.740000e+06</td>\n",
       "      <td>6360.000000</td>\n",
       "      <td>3.000000</td>\n",
       "      <td>2.000000</td>\n",
       "      <td>2.000000</td>\n",
       "      <td>1.000000</td>\n",
       "    </tr>\n",
       "    <tr>\n",
       "      <th>max</th>\n",
       "      <td>1.330000e+07</td>\n",
       "      <td>16200.000000</td>\n",
       "      <td>6.000000</td>\n",
       "      <td>4.000000</td>\n",
       "      <td>4.000000</td>\n",
       "      <td>3.000000</td>\n",
       "    </tr>\n",
       "  </tbody>\n",
       "</table>\n",
       "</div>"
      ],
      "text/plain": [
       "              price          area    bedrooms   bathrooms     stories  \\\n",
       "count  5.450000e+02    545.000000  545.000000  545.000000  545.000000   \n",
       "mean   4.766729e+06   5150.541284    2.965138    1.286239    1.805505   \n",
       "std    1.870440e+06   2170.141023    0.738064    0.502470    0.867492   \n",
       "min    1.750000e+06   1650.000000    1.000000    1.000000    1.000000   \n",
       "25%    3.430000e+06   3600.000000    2.000000    1.000000    1.000000   \n",
       "50%    4.340000e+06   4600.000000    3.000000    1.000000    2.000000   \n",
       "75%    5.740000e+06   6360.000000    3.000000    2.000000    2.000000   \n",
       "max    1.330000e+07  16200.000000    6.000000    4.000000    4.000000   \n",
       "\n",
       "          parking  \n",
       "count  545.000000  \n",
       "mean     0.693578  \n",
       "std      0.861586  \n",
       "min      0.000000  \n",
       "25%      0.000000  \n",
       "50%      0.000000  \n",
       "75%      1.000000  \n",
       "max      3.000000  "
      ]
     },
     "execution_count": 16,
     "metadata": {},
     "output_type": "execute_result"
    }
   ],
   "source": [
    "housing.describe()"
   ]
  },
  {
   "cell_type": "code",
   "execution_count": 17,
   "id": "e10fd53d7a424735",
   "metadata": {
    "ExecuteTime": {
     "end_time": "2023-08-17T06:47:50.138030Z",
     "start_time": "2023-08-17T06:47:49.284147Z"
    }
   },
   "outputs": [
    {
     "data": {
      "text/plain": [
       "price               0\n",
       "area                0\n",
       "bedrooms            0\n",
       "bathrooms           0\n",
       "stories             0\n",
       "mainroad            0\n",
       "guestroom           0\n",
       "basement            0\n",
       "hotwaterheating     0\n",
       "airconditioning     0\n",
       "parking             0\n",
       "prefarea            0\n",
       "furnishingstatus    0\n",
       "dtype: int64"
      ]
     },
     "execution_count": 17,
     "metadata": {},
     "output_type": "execute_result"
    }
   ],
   "source": [
    "housing.isna().sum()"
   ]
  },
  {
   "cell_type": "code",
   "execution_count": 18,
   "id": "c80a13bd98083b61",
   "metadata": {
    "ExecuteTime": {
     "end_time": "2023-08-17T06:47:51.127172Z",
     "start_time": "2023-08-17T06:47:49.334618Z"
    }
   },
   "outputs": [
    {
     "data": {
      "image/png": "[encoded data removed]",
      "text/plain": [
       "<Figure size 1200x700 with 6 Axes>"
      ]
     },
     "metadata": {},
     "output_type": "display_data"
    }
   ],
   "source": [
    "housing.hist(grid=False, figsize=(12, 7));"
   ]
  },
  {
   "cell_type": "code",
   "execution_count": 19,
   "id": "61915b990b66fe2f",
   "metadata": {
    "ExecuteTime": {
     "end_time": "2023-08-17T06:47:51.127497Z",
     "start_time": "2023-08-17T06:47:50.998523Z"
    }
   },
   "outputs": [
    {
     "data": {
      "text/plain": [
       "semi-furnished    227\n",
       "unfurnished       178\n",
       "furnished         140\n",
       "Name: furnishingstatus, dtype: int64"
      ]
     },
     "execution_count": 19,
     "metadata": {},
     "output_type": "execute_result"
    }
   ],
   "source": [
    "housing['furnishingstatus'].value_counts()"
   ]
  },
  {
   "cell_type": "code",
   "execution_count": 20,
   "id": "568eb63a1abba2dd",
   "metadata": {
    "ExecuteTime": {
     "end_time": "2023-08-17T06:47:51.749073Z",
     "start_time": "2023-08-17T06:47:51.011894Z"
    }
   },
   "outputs": [
    {
     "data": {
      "image/png": "[encoded data removed]",
      "text/plain": [
       "<Figure size 640x480 with 1 Axes>"
      ]
     },
     "metadata": {},
     "output_type": "display_data"
    }
   ],
   "source": [
    "housing['price'].hist(grid=False);"
   ]
  },
  {
   "cell_type": "markdown",
   "id": "4d2d8b4cade538a3",
   "metadata": {
    "collapsed": false
   },
   "source": [
    "## Train and Test datasets"
   ]
  },
  {
   "cell_type": "markdown",
   "id": "497623472665f908",
   "metadata": {},
   "source": [
    "Making sure we have train and test dataset in such a way that both cover the entire population of the data.\n",
    "Since, our reponse variable is 'price' we convert it into bins to conists the equal ranges and then split the dataset using sklearn's stratified split"
   ]
  },
  {
   "cell_type": "code",
   "execution_count": 21,
   "id": "dddf5dd308abd703",
   "metadata": {
    "ExecuteTime": {
     "end_time": "2023-08-17T06:47:51.749378Z",
     "start_time": "2023-08-17T06:47:51.275302Z"
    }
   },
   "outputs": [],
   "source": [
    "bins = [0, 1750000, 4637500, 7525000, 10412500, 13300000 + 1]\n",
    "labels = [1, 2, 3, 4, 5]\n",
    "housing['price_cat'] = pd.cut(housing['price'], bins=bins, labels=labels)"
   ]
  },
  {
   "cell_type": "code",
   "execution_count": 22,
   "id": "c61fce6c255ee244",
   "metadata": {
    "ExecuteTime": {
     "end_time": "2023-08-17T06:47:51.749903Z",
     "start_time": "2023-08-17T06:47:51.291379Z"
    }
   },
   "outputs": [
    {
     "data": {
      "text/html": [
       "<div>\n",
       "<style scoped>\n",
       "    .dataframe tbody tr th:only-of-type {\n",
       "        vertical-align: middle;\n",
       "    }\n",
       "\n",
       "    .dataframe tbody tr th {\n",
       "        vertical-align: top;\n",
       "    }\n",
       "\n",
       "    .dataframe thead th {\n",
       "        text-align: right;\n",
       "    }\n",
       "</style>\n",
       "<table border=\"1\" class=\"dataframe\">\n",
       "  <thead>\n",
       "    <tr style=\"text-align: right;\">\n",
       "      <th></th>\n",
       "      <th>price</th>\n",
       "      <th>price_cat</th>\n",
       "    </tr>\n",
       "  </thead>\n",
       "  <tbody>\n",
       "    <tr>\n",
       "      <th>0</th>\n",
       "      <td>13300000</td>\n",
       "      <td>5</td>\n",
       "    </tr>\n",
       "    <tr>\n",
       "      <th>1</th>\n",
       "      <td>12250000</td>\n",
       "      <td>5</td>\n",
       "    </tr>\n",
       "    <tr>\n",
       "      <th>2</th>\n",
       "      <td>12250000</td>\n",
       "      <td>5</td>\n",
       "    </tr>\n",
       "    <tr>\n",
       "      <th>3</th>\n",
       "      <td>12215000</td>\n",
       "      <td>5</td>\n",
       "    </tr>\n",
       "    <tr>\n",
       "      <th>4</th>\n",
       "      <td>11410000</td>\n",
       "      <td>5</td>\n",
       "    </tr>\n",
       "    <tr>\n",
       "      <th>...</th>\n",
       "      <td>...</td>\n",
       "      <td>...</td>\n",
       "    </tr>\n",
       "    <tr>\n",
       "      <th>540</th>\n",
       "      <td>1820000</td>\n",
       "      <td>2</td>\n",
       "    </tr>\n",
       "    <tr>\n",
       "      <th>541</th>\n",
       "      <td>1767150</td>\n",
       "      <td>2</td>\n",
       "    </tr>\n",
       "    <tr>\n",
       "      <th>542</th>\n",
       "      <td>1750000</td>\n",
       "      <td>1</td>\n",
       "    </tr>\n",
       "    <tr>\n",
       "      <th>543</th>\n",
       "      <td>1750000</td>\n",
       "      <td>1</td>\n",
       "    </tr>\n",
       "    <tr>\n",
       "      <th>544</th>\n",
       "      <td>1750000</td>\n",
       "      <td>1</td>\n",
       "    </tr>\n",
       "  </tbody>\n",
       "</table>\n",
       "<p>545 rows × 2 columns</p>\n",
       "</div>"
      ],
      "text/plain": [
       "        price price_cat\n",
       "0    13300000         5\n",
       "1    12250000         5\n",
       "2    12250000         5\n",
       "3    12215000         5\n",
       "4    11410000         5\n",
       "..        ...       ...\n",
       "540   1820000         2\n",
       "541   1767150         2\n",
       "542   1750000         1\n",
       "543   1750000         1\n",
       "544   1750000         1\n",
       "\n",
       "[545 rows x 2 columns]"
      ]
     },
     "execution_count": 22,
     "metadata": {},
     "output_type": "execute_result"
    }
   ],
   "source": [
    "housing[['price', 'price_cat']]"
   ]
  },
  {
   "cell_type": "code",
   "execution_count": 23,
   "id": "f1fc65000ce78263",
   "metadata": {
    "ExecuteTime": {
     "end_time": "2023-08-17T06:47:51.770355Z",
     "start_time": "2023-08-17T06:47:51.333710Z"
    }
   },
   "outputs": [
    {
     "data": {
      "image/png": "[encoded data removed]",
      "text/plain": [
       "<Figure size 640x480 with 1 Axes>"
      ]
     },
     "metadata": {},
     "output_type": "display_data"
    }
   ],
   "source": [
    "housing['price_cat'].hist(grid=False);"
   ]
  },
  {
   "cell_type": "code",
   "execution_count": 24,
   "id": "f9cd4b6ed2d6c525",
   "metadata": {
    "ExecuteTime": {
     "end_time": "2023-08-17T06:47:51.770589Z",
     "start_time": "2023-08-17T06:47:51.737787Z"
    }
   },
   "outputs": [],
   "source": [
    "split = StratifiedShuffleSplit(n_splits=1, test_size=0.2, random_state=42)\n",
    "\n",
    "for train_index, test_index in split.split(housing, housing['price_cat']):\n",
    "    strat_train_set = housing.loc[train_index]\n",
    "    strat_test_set = housing.loc[test_index]"
   ]
  },
  {
   "cell_type": "code",
   "execution_count": 25,
   "id": "7d6cceb01063bd67",
   "metadata": {
    "ExecuteTime": {
     "end_time": "2023-08-17T06:47:51.853290Z",
     "start_time": "2023-08-17T06:47:51.757787Z"
    }
   },
   "outputs": [
    {
     "data": {
      "text/plain": [
       "2    0.568807\n",
       "3    0.339450\n",
       "4    0.073394\n",
       "1    0.009174\n",
       "5    0.009174\n",
       "Name: price_cat, dtype: float64"
      ]
     },
     "execution_count": 25,
     "metadata": {},
     "output_type": "execute_result"
    }
   ],
   "source": [
    "strat_test_set['price_cat'].value_counts() / len(strat_test_set)"
   ]
  },
  {
   "cell_type": "code",
   "execution_count": 26,
   "id": "a71d2d9327841fef",
   "metadata": {
    "ExecuteTime": {
     "end_time": "2023-08-17T06:47:52.041504Z",
     "start_time": "2023-08-17T06:47:51.782896Z"
    }
   },
   "outputs": [
    {
     "data": {
      "text/plain": [
       "2    0.566514\n",
       "3    0.344037\n",
       "4    0.073394\n",
       "5    0.011468\n",
       "1    0.004587\n",
       "Name: price_cat, dtype: float64"
      ]
     },
     "execution_count": 26,
     "metadata": {},
     "output_type": "execute_result"
    }
   ],
   "source": [
    "strat_train_set['price_cat'].value_counts() / len(strat_train_set)"
   ]
  },
  {
   "cell_type": "markdown",
   "id": "33428f1d51b12e8a",
   "metadata": {
    "collapsed": false
   },
   "source": [
    "It looks like both test and train have covered an equal proportion of the population from the original dataset"
   ]
  },
  {
   "cell_type": "code",
   "execution_count": 27,
   "id": "ae98f2954cba3b5",
   "metadata": {
    "ExecuteTime": {
     "end_time": "2023-08-17T06:47:52.042230Z",
     "start_time": "2023-08-17T06:47:51.795636Z"
    }
   },
   "outputs": [],
   "source": [
    "for _ in (strat_train_set, strat_test_set):\n",
    "    _.drop('price_cat', axis=1, inplace=True)"
   ]
  },
  {
   "cell_type": "markdown",
   "id": "79867d72f375e197",
   "metadata": {
    "collapsed": false
   },
   "source": [
    "We dropped the bins colum 'price_cat' as we only needed it to split the dataset"
   ]
  },
  {
   "cell_type": "code",
   "execution_count": 28,
   "id": "4b15ed41f7ff1fd3",
   "metadata": {
    "ExecuteTime": {
     "end_time": "2023-08-17T06:47:52.046014Z",
     "start_time": "2023-08-17T06:47:51.801700Z"
    }
   },
   "outputs": [
    {
     "data": {
      "text/html": [
       "<div>\n",
       "<style scoped>\n",
       "    .dataframe tbody tr th:only-of-type {\n",
       "        vertical-align: middle;\n",
       "    }\n",
       "\n",
       "    .dataframe tbody tr th {\n",
       "        vertical-align: top;\n",
       "    }\n",
       "\n",
       "    .dataframe thead th {\n",
       "        text-align: right;\n",
       "    }\n",
       "</style>\n",
       "<table border=\"1\" class=\"dataframe\">\n",
       "  <thead>\n",
       "    <tr style=\"text-align: right;\">\n",
       "      <th></th>\n",
       "      <th>price</th>\n",
       "      <th>area</th>\n",
       "      <th>bedrooms</th>\n",
       "      <th>bathrooms</th>\n",
       "      <th>stories</th>\n",
       "      <th>mainroad</th>\n",
       "      <th>guestroom</th>\n",
       "      <th>basement</th>\n",
       "      <th>hotwaterheating</th>\n",
       "      <th>airconditioning</th>\n",
       "      <th>parking</th>\n",
       "      <th>prefarea</th>\n",
       "      <th>furnishingstatus</th>\n",
       "    </tr>\n",
       "  </thead>\n",
       "  <tbody>\n",
       "    <tr>\n",
       "      <th>361</th>\n",
       "      <td>3710000</td>\n",
       "      <td>6020</td>\n",
       "      <td>3</td>\n",
       "      <td>1</td>\n",
       "      <td>1</td>\n",
       "      <td>yes</td>\n",
       "      <td>no</td>\n",
       "      <td>no</td>\n",
       "      <td>no</td>\n",
       "      <td>no</td>\n",
       "      <td>0</td>\n",
       "      <td>no</td>\n",
       "      <td>semi-furnished</td>\n",
       "    </tr>\n",
       "    <tr>\n",
       "      <th>540</th>\n",
       "      <td>1820000</td>\n",
       "      <td>3000</td>\n",
       "      <td>2</td>\n",
       "      <td>1</td>\n",
       "      <td>1</td>\n",
       "      <td>yes</td>\n",
       "      <td>no</td>\n",
       "      <td>yes</td>\n",
       "      <td>no</td>\n",
       "      <td>no</td>\n",
       "      <td>2</td>\n",
       "      <td>no</td>\n",
       "      <td>unfurnished</td>\n",
       "    </tr>\n",
       "    <tr>\n",
       "      <th>525</th>\n",
       "      <td>2345000</td>\n",
       "      <td>3640</td>\n",
       "      <td>2</td>\n",
       "      <td>1</td>\n",
       "      <td>1</td>\n",
       "      <td>yes</td>\n",
       "      <td>no</td>\n",
       "      <td>no</td>\n",
       "      <td>no</td>\n",
       "      <td>no</td>\n",
       "      <td>0</td>\n",
       "      <td>no</td>\n",
       "      <td>unfurnished</td>\n",
       "    </tr>\n",
       "    <tr>\n",
       "      <th>494</th>\n",
       "      <td>2730000</td>\n",
       "      <td>6800</td>\n",
       "      <td>2</td>\n",
       "      <td>1</td>\n",
       "      <td>1</td>\n",
       "      <td>yes</td>\n",
       "      <td>no</td>\n",
       "      <td>no</td>\n",
       "      <td>no</td>\n",
       "      <td>no</td>\n",
       "      <td>0</td>\n",
       "      <td>no</td>\n",
       "      <td>unfurnished</td>\n",
       "    </tr>\n",
       "    <tr>\n",
       "      <th>56</th>\n",
       "      <td>7343000</td>\n",
       "      <td>11440</td>\n",
       "      <td>4</td>\n",
       "      <td>1</td>\n",
       "      <td>2</td>\n",
       "      <td>yes</td>\n",
       "      <td>no</td>\n",
       "      <td>yes</td>\n",
       "      <td>no</td>\n",
       "      <td>no</td>\n",
       "      <td>1</td>\n",
       "      <td>yes</td>\n",
       "      <td>semi-furnished</td>\n",
       "    </tr>\n",
       "    <tr>\n",
       "      <th>...</th>\n",
       "      <td>...</td>\n",
       "      <td>...</td>\n",
       "      <td>...</td>\n",
       "      <td>...</td>\n",
       "      <td>...</td>\n",
       "      <td>...</td>\n",
       "      <td>...</td>\n",
       "      <td>...</td>\n",
       "      <td>...</td>\n",
       "      <td>...</td>\n",
       "      <td>...</td>\n",
       "      <td>...</td>\n",
       "      <td>...</td>\n",
       "    </tr>\n",
       "    <tr>\n",
       "      <th>263</th>\n",
       "      <td>4410000</td>\n",
       "      <td>3968</td>\n",
       "      <td>3</td>\n",
       "      <td>1</td>\n",
       "      <td>2</td>\n",
       "      <td>no</td>\n",
       "      <td>no</td>\n",
       "      <td>no</td>\n",
       "      <td>no</td>\n",
       "      <td>no</td>\n",
       "      <td>0</td>\n",
       "      <td>no</td>\n",
       "      <td>semi-furnished</td>\n",
       "    </tr>\n",
       "    <tr>\n",
       "      <th>18</th>\n",
       "      <td>8890000</td>\n",
       "      <td>4600</td>\n",
       "      <td>3</td>\n",
       "      <td>2</td>\n",
       "      <td>2</td>\n",
       "      <td>yes</td>\n",
       "      <td>yes</td>\n",
       "      <td>no</td>\n",
       "      <td>no</td>\n",
       "      <td>yes</td>\n",
       "      <td>2</td>\n",
       "      <td>no</td>\n",
       "      <td>furnished</td>\n",
       "    </tr>\n",
       "    <tr>\n",
       "      <th>389</th>\n",
       "      <td>3500000</td>\n",
       "      <td>4600</td>\n",
       "      <td>4</td>\n",
       "      <td>1</td>\n",
       "      <td>2</td>\n",
       "      <td>yes</td>\n",
       "      <td>no</td>\n",
       "      <td>no</td>\n",
       "      <td>no</td>\n",
       "      <td>no</td>\n",
       "      <td>0</td>\n",
       "      <td>no</td>\n",
       "      <td>semi-furnished</td>\n",
       "    </tr>\n",
       "    <tr>\n",
       "      <th>84</th>\n",
       "      <td>6510000</td>\n",
       "      <td>3760</td>\n",
       "      <td>3</td>\n",
       "      <td>1</td>\n",
       "      <td>2</td>\n",
       "      <td>yes</td>\n",
       "      <td>no</td>\n",
       "      <td>no</td>\n",
       "      <td>yes</td>\n",
       "      <td>no</td>\n",
       "      <td>2</td>\n",
       "      <td>no</td>\n",
       "      <td>semi-furnished</td>\n",
       "    </tr>\n",
       "    <tr>\n",
       "      <th>243</th>\n",
       "      <td>4550000</td>\n",
       "      <td>2550</td>\n",
       "      <td>3</td>\n",
       "      <td>1</td>\n",
       "      <td>2</td>\n",
       "      <td>yes</td>\n",
       "      <td>no</td>\n",
       "      <td>yes</td>\n",
       "      <td>no</td>\n",
       "      <td>no</td>\n",
       "      <td>0</td>\n",
       "      <td>no</td>\n",
       "      <td>furnished</td>\n",
       "    </tr>\n",
       "  </tbody>\n",
       "</table>\n",
       "<p>436 rows × 13 columns</p>\n",
       "</div>"
      ],
      "text/plain": [
       "       price   area  bedrooms  bathrooms  stories mainroad guestroom basement  \\\n",
       "361  3710000   6020         3          1        1      yes        no       no   \n",
       "540  1820000   3000         2          1        1      yes        no      yes   \n",
       "525  2345000   3640         2          1        1      yes        no       no   \n",
       "494  2730000   6800         2          1        1      yes        no       no   \n",
       "56   7343000  11440         4          1        2      yes        no      yes   \n",
       "..       ...    ...       ...        ...      ...      ...       ...      ...   \n",
       "263  4410000   3968         3          1        2       no        no       no   \n",
       "18   8890000   4600         3          2        2      yes       yes       no   \n",
       "389  3500000   4600         4          1        2      yes        no       no   \n",
       "84   6510000   3760         3          1        2      yes        no       no   \n",
       "243  4550000   2550         3          1        2      yes        no      yes   \n",
       "\n",
       "    hotwaterheating airconditioning  parking prefarea furnishingstatus  \n",
       "361              no              no        0       no   semi-furnished  \n",
       "540              no              no        2       no      unfurnished  \n",
       "525              no              no        0       no      unfurnished  \n",
       "494              no              no        0       no      unfurnished  \n",
       "56               no              no        1      yes   semi-furnished  \n",
       "..              ...             ...      ...      ...              ...  \n",
       "263              no              no        0       no   semi-furnished  \n",
       "18               no             yes        2       no        furnished  \n",
       "389              no              no        0       no   semi-furnished  \n",
       "84              yes              no        2       no   semi-furnished  \n",
       "243              no              no        0       no        furnished  \n",
       "\n",
       "[436 rows x 13 columns]"
      ]
     },
     "execution_count": 28,
     "metadata": {},
     "output_type": "execute_result"
    }
   ],
   "source": [
    "strat_train_set"
   ]
  },
  {
   "cell_type": "code",
   "execution_count": 29,
   "id": "faeff9c944c044b4",
   "metadata": {
    "ExecuteTime": {
     "end_time": "2023-08-17T06:47:52.046263Z",
     "start_time": "2023-08-17T06:47:51.830344Z"
    }
   },
   "outputs": [],
   "source": [
    "housing = strat_train_set.copy()"
   ]
  },
  {
   "cell_type": "code",
   "execution_count": 30,
   "id": "4982c10bbaaeaa21",
   "metadata": {
    "ExecuteTime": {
     "end_time": "2023-08-17T06:48:35.929220Z",
     "start_time": "2023-08-17T06:48:35.857636Z"
    },
    "collapsed": false
   },
   "outputs": [
    {
     "data": {
      "text/plain": [
       "Index(['price', 'area', 'bedrooms', 'bathrooms', 'stories', 'mainroad',\n",
       "       'guestroom', 'basement', 'hotwaterheating', 'airconditioning',\n",
       "       'parking', 'prefarea', 'furnishingstatus'],\n",
       "      dtype='object')"
      ]
     },
     "execution_count": 30,
     "metadata": {},
     "output_type": "execute_result"
    }
   ],
   "source": [
    "housing.columns"
   ]
  },
  {
   "cell_type": "code",
   "execution_count": 31,
   "id": "bc893dccb86945c6",
   "metadata": {
    "ExecuteTime": {
     "end_time": "2023-08-17T06:50:52.494203Z",
     "start_time": "2023-08-17T06:50:50.303221Z"
    }
   },
   "outputs": [
    {
     "data": {
      "image/png": "[encoded data removed]",
      "text/plain": [
       "<Figure size 1200x1000 with 36 Axes>"
      ]
     },
     "metadata": {},
     "output_type": "display_data"
    }
   ],
   "source": [
    "\n",
    "\n",
    "attributes = ['price', 'area', 'bedrooms', 'stories', 'bathrooms', 'parking']\n",
    "\n",
    "scatter_matrix(housing[attributes], figsize=(12, 10));"
   ]
  },
  {
   "cell_type": "markdown",
   "id": "d945594ebee98b1d",
   "metadata": {
    "collapsed": false
   },
   "source": [
    "## Correlation"
   ]
  },
  {
   "cell_type": "code",
   "execution_count": 32,
   "id": "c2f61fbbcc7efe54",
   "metadata": {
    "ExecuteTime": {
     "end_time": "2023-08-17T06:47:54.943696Z",
     "start_time": "2023-08-17T06:47:54.927191Z"
    }
   },
   "outputs": [
    {
     "data": {
      "text/plain": [
       "price        1.000000\n",
       "area         0.549591\n",
       "bathrooms    0.514506\n",
       "stories      0.396803\n",
       "parking      0.390463\n",
       "bedrooms     0.336319\n",
       "Name: price, dtype: float64"
      ]
     },
     "execution_count": 32,
     "metadata": {},
     "output_type": "execute_result"
    }
   ],
   "source": [
    "corr_matrix = housing.corr()\n",
    "corr_matrix['price'].sort_values(ascending=False)"
   ]
  },
  {
   "cell_type": "markdown",
   "id": "1b468118bc006830",
   "metadata": {
    "collapsed": false
   },
   "source": [
    "# X_train and y_train"
   ]
  },
  {
   "cell_type": "code",
   "execution_count": 33,
   "id": "1d3895d0f28b1f40",
   "metadata": {
    "ExecuteTime": {
     "end_time": "2023-08-17T17:00:10.719392Z",
     "start_time": "2023-08-17T17:00:10.645806Z"
    }
   },
   "outputs": [],
   "source": [
    "X_train = strat_train_set.drop('price', axis=1)\n",
    "y_train = strat_train_set['price']"
   ]
  },
  {
   "cell_type": "code",
   "execution_count": 34,
   "id": "162fa9987ecef063",
   "metadata": {
    "ExecuteTime": {
     "end_time": "2023-08-17T17:00:12.420941Z",
     "start_time": "2023-08-17T17:00:12.368972Z"
    }
   },
   "outputs": [],
   "source": [
    "housing_cat = X_train.select_dtypes([\"object\"])"
   ]
  },
  {
   "cell_type": "markdown",
   "id": "c85f75ab9463d487",
   "metadata": {
    "collapsed": false
   },
   "source": [
    "Using ordinal encoder for our categorical variables"
   ]
  },
  {
   "cell_type": "code",
   "execution_count": 35,
   "id": "1f70c1b94edb0e40",
   "metadata": {
    "ExecuteTime": {
     "end_time": "2023-08-17T17:00:13.016615Z",
     "start_time": "2023-08-17T17:00:12.969094Z"
    }
   },
   "outputs": [
    {
     "data": {
      "text/plain": [
       "array([[1., 0., 0., ..., 0., 0., 1.],\n",
       "       [1., 0., 1., ..., 0., 0., 2.],\n",
       "       [1., 0., 0., ..., 0., 0., 2.],\n",
       "       ...,\n",
       "       [1., 0., 0., ..., 0., 0., 1.],\n",
       "       [1., 0., 0., ..., 0., 0., 1.],\n",
       "       [1., 0., 1., ..., 0., 0., 0.]])"
      ]
     },
     "execution_count": 35,
     "metadata": {},
     "output_type": "execute_result"
    }
   ],
   "source": [
    "from sklearn.preprocessing import OrdinalEncoder\n",
    "ordinal_encoder = OrdinalEncoder()\n",
    "\n",
    "housing_cat_encoded = ordinal_encoder.fit_transform(housing_cat)\n",
    "housing_cat_encoded"
   ]
  },
  {
   "cell_type": "code",
   "execution_count": 36,
   "id": "e9b2407288017af4",
   "metadata": {
    "ExecuteTime": {
     "end_time": "2023-08-17T17:00:14.974780Z",
     "start_time": "2023-08-17T17:00:14.922865Z"
    },
    "collapsed": false
   },
   "outputs": [
    {
     "data": {
      "text/plain": [
       "[array(['no', 'yes'], dtype=object),\n",
       " array(['no', 'yes'], dtype=object),\n",
       " array(['no', 'yes'], dtype=object),\n",
       " array(['no', 'yes'], dtype=object),\n",
       " array(['no', 'yes'], dtype=object),\n",
       " array(['no', 'yes'], dtype=object),\n",
       " array(['furnished', 'semi-furnished', 'unfurnished'], dtype=object)]"
      ]
     },
     "execution_count": 36,
     "metadata": {},
     "output_type": "execute_result"
    }
   ],
   "source": [
    "ordinal_encoder.categories_"
   ]
  },
  {
   "cell_type": "code",
   "execution_count": 37,
   "id": "10c47181f681f688",
   "metadata": {
    "ExecuteTime": {
     "end_time": "2023-08-17T17:00:19.442Z",
     "start_time": "2023-08-17T17:00:19.358041Z"
    },
    "collapsed": false
   },
   "outputs": [
    {
     "data": {
      "text/html": [
       "<div>\n",
       "<style scoped>\n",
       "    .dataframe tbody tr th:only-of-type {\n",
       "        vertical-align: middle;\n",
       "    }\n",
       "\n",
       "    .dataframe tbody tr th {\n",
       "        vertical-align: top;\n",
       "    }\n",
       "\n",
       "    .dataframe thead th {\n",
       "        text-align: right;\n",
       "    }\n",
       "</style>\n",
       "<table border=\"1\" class=\"dataframe\">\n",
       "  <thead>\n",
       "    <tr style=\"text-align: right;\">\n",
       "      <th></th>\n",
       "      <th>area</th>\n",
       "      <th>bedrooms</th>\n",
       "      <th>bathrooms</th>\n",
       "      <th>stories</th>\n",
       "      <th>parking</th>\n",
       "    </tr>\n",
       "  </thead>\n",
       "  <tbody>\n",
       "    <tr>\n",
       "      <th>361</th>\n",
       "      <td>6020</td>\n",
       "      <td>3</td>\n",
       "      <td>1</td>\n",
       "      <td>1</td>\n",
       "      <td>0</td>\n",
       "    </tr>\n",
       "    <tr>\n",
       "      <th>540</th>\n",
       "      <td>3000</td>\n",
       "      <td>2</td>\n",
       "      <td>1</td>\n",
       "      <td>1</td>\n",
       "      <td>2</td>\n",
       "    </tr>\n",
       "    <tr>\n",
       "      <th>525</th>\n",
       "      <td>3640</td>\n",
       "      <td>2</td>\n",
       "      <td>1</td>\n",
       "      <td>1</td>\n",
       "      <td>0</td>\n",
       "    </tr>\n",
       "    <tr>\n",
       "      <th>494</th>\n",
       "      <td>6800</td>\n",
       "      <td>2</td>\n",
       "      <td>1</td>\n",
       "      <td>1</td>\n",
       "      <td>0</td>\n",
       "    </tr>\n",
       "    <tr>\n",
       "      <th>56</th>\n",
       "      <td>11440</td>\n",
       "      <td>4</td>\n",
       "      <td>1</td>\n",
       "      <td>2</td>\n",
       "      <td>1</td>\n",
       "    </tr>\n",
       "    <tr>\n",
       "      <th>...</th>\n",
       "      <td>...</td>\n",
       "      <td>...</td>\n",
       "      <td>...</td>\n",
       "      <td>...</td>\n",
       "      <td>...</td>\n",
       "    </tr>\n",
       "    <tr>\n",
       "      <th>263</th>\n",
       "      <td>3968</td>\n",
       "      <td>3</td>\n",
       "      <td>1</td>\n",
       "      <td>2</td>\n",
       "      <td>0</td>\n",
       "    </tr>\n",
       "    <tr>\n",
       "      <th>18</th>\n",
       "      <td>4600</td>\n",
       "      <td>3</td>\n",
       "      <td>2</td>\n",
       "      <td>2</td>\n",
       "      <td>2</td>\n",
       "    </tr>\n",
       "    <tr>\n",
       "      <th>389</th>\n",
       "      <td>4600</td>\n",
       "      <td>4</td>\n",
       "      <td>1</td>\n",
       "      <td>2</td>\n",
       "      <td>0</td>\n",
       "    </tr>\n",
       "    <tr>\n",
       "      <th>84</th>\n",
       "      <td>3760</td>\n",
       "      <td>3</td>\n",
       "      <td>1</td>\n",
       "      <td>2</td>\n",
       "      <td>2</td>\n",
       "    </tr>\n",
       "    <tr>\n",
       "      <th>243</th>\n",
       "      <td>2550</td>\n",
       "      <td>3</td>\n",
       "      <td>1</td>\n",
       "      <td>2</td>\n",
       "      <td>0</td>\n",
       "    </tr>\n",
       "  </tbody>\n",
       "</table>\n",
       "<p>436 rows × 5 columns</p>\n",
       "</div>"
      ],
      "text/plain": [
       "      area  bedrooms  bathrooms  stories  parking\n",
       "361   6020         3          1        1        0\n",
       "540   3000         2          1        1        2\n",
       "525   3640         2          1        1        0\n",
       "494   6800         2          1        1        0\n",
       "56   11440         4          1        2        1\n",
       "..     ...       ...        ...      ...      ...\n",
       "263   3968         3          1        2        0\n",
       "18    4600         3          2        2        2\n",
       "389   4600         4          1        2        0\n",
       "84    3760         3          1        2        2\n",
       "243   2550         3          1        2        0\n",
       "\n",
       "[436 rows x 5 columns]"
      ]
     },
     "execution_count": 37,
     "metadata": {},
     "output_type": "execute_result"
    }
   ],
   "source": [
    "housing_num = X_train.select_dtypes(['int', 'float'])\n",
    "housing_num"
   ]
  },
  {
   "cell_type": "code",
   "execution_count": 38,
   "id": "7045b0167f3d56e3",
   "metadata": {
    "ExecuteTime": {
     "end_time": "2023-08-17T17:00:28.897944Z",
     "start_time": "2023-08-17T17:00:28.842307Z"
    },
    "collapsed": false
   },
   "outputs": [],
   "source": [
    "# Pipeline to scale our numerical variables using standard scaler\n",
    "num_pipleine = Pipeline([\n",
    "    ('std_scaler', StandardScaler())\n",
    "])\n",
    "\n",
    "housing_num_tr = num_pipleine.fit_transform(housing_num)\n",
    "\n",
    "# Transformer for pipelining both numerical and categorical variables\n",
    "full_pipe = ColumnTransformer([\n",
    "    ('num', num_pipleine, housing_num.columns),\n",
    "    ('cat', OrdinalEncoder(), housing_cat.columns)\n",
    "])\n"
   ]
  },
  {
   "cell_type": "code",
   "execution_count": 74,
   "id": "e36266579e14d45f",
   "metadata": {
    "ExecuteTime": {
     "end_time": "2023-08-17T17:00:34.101617Z",
     "start_time": "2023-08-17T17:00:34.011228Z"
    },
    "collapsed": false
   },
   "outputs": [
    {
     "data": {
      "text/plain": [
       "array([[ 0.41442377,  0.0602392 , -0.56813188, ...,  0.        ,\n",
       "         0.        ,  1.        ],\n",
       "       [-0.96126685, -1.32209182, -0.56813188, ...,  0.        ,\n",
       "         0.        ,  2.        ],\n",
       "       [-0.66972976, -1.32209182, -0.56813188, ...,  0.        ,\n",
       "         0.        ,  2.        ],\n",
       "       ...,\n",
       "       [-0.23242414,  1.44257021, -0.56813188, ...,  0.        ,\n",
       "         0.        ,  1.        ],\n",
       "       [-0.61506656,  0.0602392 , -0.56813188, ...,  0.        ,\n",
       "         0.        ,  1.        ],\n",
       "       [-1.16625386,  0.0602392 , -0.56813188, ...,  0.        ,\n",
       "         0.        ,  0.        ]])"
      ]
     },
     "execution_count": 74,
     "metadata": {},
     "output_type": "execute_result"
    }
   ],
   "source": [
    "housing_prepared = full_pipe.fit_transform(X_train)\n",
    "housing_prepared"
   ]
  },
  {
   "cell_type": "code",
   "execution_count": 41,
   "id": "a2b48bd7d0825c79",
   "metadata": {
    "ExecuteTime": {
     "end_time": "2023-08-17T17:00:40.200770Z",
     "start_time": "2023-08-17T17:00:40.149205Z"
    },
    "collapsed": false
   },
   "outputs": [
    {
     "data": {
      "text/plain": [
       "(436, 12)"
      ]
     },
     "execution_count": 41,
     "metadata": {},
     "output_type": "execute_result"
    }
   ],
   "source": [
    "housing_prepared.shape"
   ]
  },
  {
   "cell_type": "markdown",
   "id": "4837030a",
   "metadata": {},
   "source": [
    "## Modeling "
   ]
  },
  {
   "cell_type": "code",
   "execution_count": 42,
   "id": "8088640ef31877f2",
   "metadata": {
    "ExecuteTime": {
     "end_time": "2023-08-17T17:00:44.653262Z",
     "start_time": "2023-08-17T17:00:44.577286Z"
    },
    "collapsed": false
   },
   "outputs": [
    {
     "data": {
      "text/html": [
       "<style>#sk-container-id-1 {color: black;background-color: white;}#sk-container-id-1 pre{padding: 0;}#sk-container-id-1 div.sk-toggleable {background-color: white;}#sk-container-id-1 label.sk-toggleable__label {cursor: pointer;display: block;width: 100%;margin-bottom: 0;padding: 0.3em;box-sizing: border-box;text-align: center;}#sk-container-id-1 label.sk-toggleable__label-arrow:before {content: \"▸\";float: left;margin-right: 0.25em;color: #696969;}#sk-container-id-1 label.sk-toggleable__label-arrow:hover:before {color: black;}#sk-container-id-1 div.sk-estimator:hover label.sk-toggleable__label-arrow:before {color: black;}#sk-container-id-1 div.sk-toggleable__content {max-height: 0;max-width: 0;overflow: hidden;text-align: left;background-color: #f0f8ff;}#sk-container-id-1 div.sk-toggleable__content pre {margin: 0.2em;color: black;border-radius: 0.25em;background-color: #f0f8ff;}#sk-container-id-1 input.sk-toggleable__control:checked~div.sk-toggleable__content {max-height: 200px;max-width: 100%;overflow: auto;}#sk-container-id-1 input.sk-toggleable__control:checked~label.sk-toggleable__label-arrow:before {content: \"▾\";}#sk-container-id-1 div.sk-estimator input.sk-toggleable__control:checked~label.sk-toggleable__label {background-color: #d4ebff;}#sk-container-id-1 div.sk-label input.sk-toggleable__control:checked~label.sk-toggleable__label {background-color: #d4ebff;}#sk-container-id-1 input.sk-hidden--visually {border: 0;clip: rect(1px 1px 1px 1px);clip: rect(1px, 1px, 1px, 1px);height: 1px;margin: -1px;overflow: hidden;padding: 0;position: absolute;width: 1px;}#sk-container-id-1 div.sk-estimator {font-family: monospace;background-color: #f0f8ff;border: 1px dotted black;border-radius: 0.25em;box-sizing: border-box;margin-bottom: 0.5em;}#sk-container-id-1 div.sk-estimator:hover {background-color: #d4ebff;}#sk-container-id-1 div.sk-parallel-item::after {content: \"\";width: 100%;border-bottom: 1px solid gray;flex-grow: 1;}#sk-container-id-1 div.sk-label:hover label.sk-toggleable__label {background-color: #d4ebff;}#sk-container-id-1 div.sk-serial::before {content: \"\";position: absolute;border-left: 1px solid gray;box-sizing: border-box;top: 0;bottom: 0;left: 50%;z-index: 0;}#sk-container-id-1 div.sk-serial {display: flex;flex-direction: column;align-items: center;background-color: white;padding-right: 0.2em;padding-left: 0.2em;position: relative;}#sk-container-id-1 div.sk-item {position: relative;z-index: 1;}#sk-container-id-1 div.sk-parallel {display: flex;align-items: stretch;justify-content: center;background-color: white;position: relative;}#sk-container-id-1 div.sk-item::before, #sk-container-id-1 div.sk-parallel-item::before {content: \"\";position: absolute;border-left: 1px solid gray;box-sizing: border-box;top: 0;bottom: 0;left: 50%;z-index: -1;}#sk-container-id-1 div.sk-parallel-item {display: flex;flex-direction: column;z-index: 1;position: relative;background-color: white;}#sk-container-id-1 div.sk-parallel-item:first-child::after {align-self: flex-end;width: 50%;}#sk-container-id-1 div.sk-parallel-item:last-child::after {align-self: flex-start;width: 50%;}#sk-container-id-1 div.sk-parallel-item:only-child::after {width: 0;}#sk-container-id-1 div.sk-dashed-wrapped {border: 1px dashed gray;margin: 0 0.4em 0.5em 0.4em;box-sizing: border-box;padding-bottom: 0.4em;background-color: white;}#sk-container-id-1 div.sk-label label {font-family: monospace;font-weight: bold;display: inline-block;line-height: 1.2em;}#sk-container-id-1 div.sk-label-container {text-align: center;}#sk-container-id-1 div.sk-container {/* jupyter's `normalize.less` sets `[hidden] { display: none; }` but bootstrap.min.css set `[hidden] { display: none !important; }` so we also need the `!important` here to be able to override the default hidden behavior on the sphinx rendered scikit-learn.org. See: https://github.com/scikit-learn/scikit-learn/issues/21755 */display: inline-block !important;position: relative;}#sk-container-id-1 div.sk-text-repr-fallback {display: none;}</style><div id=\"sk-container-id-1\" class=\"sk-top-container\"><div class=\"sk-text-repr-fallback\"><pre>LinearRegression()</pre><b>In a Jupyter environment, please rerun this cell to show the HTML representation or trust the notebook. <br />On GitHub, the HTML representation is unable to render, please try loading this page with nbviewer.org.</b></div><div class=\"sk-container\" hidden><div class=\"sk-item\"><div class=\"sk-estimator sk-toggleable\"><input class=\"sk-toggleable__control sk-hidden--visually\" id=\"sk-estimator-id-1\" type=\"checkbox\" checked><label for=\"sk-estimator-id-1\" class=\"sk-toggleable__label sk-toggleable__label-arrow\">LinearRegression</label><div class=\"sk-toggleable__content\"><pre>LinearRegression()</pre></div></div></div></div></div>"
      ],
      "text/plain": [
       "LinearRegression()"
      ]
     },
     "execution_count": 42,
     "metadata": {},
     "output_type": "execute_result"
    }
   ],
   "source": [
    "lin_reg = LinearRegression()\n",
    "lin_reg.fit(housing_prepared, y_train)"
   ]
  },
  {
   "cell_type": "code",
   "execution_count": 76,
   "id": "b36efc47c0bcd439",
   "metadata": {
    "ExecuteTime": {
     "end_time": "2023-08-17T17:00:57.367127Z",
     "start_time": "2023-08-17T17:00:57.299171Z"
    },
    "collapsed": false
   },
   "outputs": [],
   "source": [
    "# Testing on some random data\n",
    "\n",
    "some_data = X_train.iloc[:5]\n",
    "som_labels = y_train.iloc[:5]\n",
    "some_data_prepared = full_pipe.transform(some_data)"
   ]
  },
  {
   "cell_type": "code",
   "execution_count": 77,
   "id": "3981474249f7a441",
   "metadata": {
    "ExecuteTime": {
     "end_time": "2023-08-17T17:00:58.289675Z",
     "start_time": "2023-08-17T17:00:58.247120Z"
    },
    "collapsed": false
   },
   "outputs": [
    {
     "name": "stdout",
     "output_type": "stream",
     "text": [
      "Predictions [3630548.38440595 3562419.54182975 2723908.71325653 3542012.70678652\n",
      " 6790923.57821641]\n"
     ]
    }
   ],
   "source": [
    "print(\"Predictions\", lin_reg.predict(some_data_prepared))"
   ]
  },
  {
   "cell_type": "code",
   "execution_count": 78,
   "id": "a70bc2287422c66d",
   "metadata": {
    "ExecuteTime": {
     "end_time": "2023-08-17T17:01:00.635233Z",
     "start_time": "2023-08-17T17:01:00.551749Z"
    },
    "collapsed": false
   },
   "outputs": [
    {
     "name": "stdout",
     "output_type": "stream",
     "text": [
      "Labels [3710000, 1820000, 2345000, 2730000, 7343000]\n"
     ]
    }
   ],
   "source": [
    "print(\"Labels\", list(som_labels))"
   ]
  },
  {
   "cell_type": "markdown",
   "id": "920c8e93",
   "metadata": {},
   "source": [
    "The model might not be perfectly accurate based on this small test, but it's providing approximate values for this subset. To gauge the model's overall performance, it would be important to compute metrics like RMSE or MAE. This will give a better understanding of how well the model is likely to perform on unseen data."
   ]
  },
  {
   "cell_type": "code",
   "execution_count": 46,
   "id": "65515cefb5a22c64",
   "metadata": {
    "ExecuteTime": {
     "end_time": "2023-08-17T07:41:28.027493Z",
     "start_time": "2023-08-17T07:41:27.993155Z"
    },
    "collapsed": false
   },
   "outputs": [
    {
     "data": {
      "text/plain": [
       "1045659.2306810892"
      ]
     },
     "execution_count": 46,
     "metadata": {},
     "output_type": "execute_result"
    }
   ],
   "source": [
    "# RMSE \n",
    "housing_pred = lin_reg.predict(housing_prepared)\n",
    "lin_mse = mean_squared_error(y_train, housing_pred)\n",
    "lin_rmse = np.sqrt(lin_mse)\n",
    "lin_rmse"
   ]
  },
  {
   "cell_type": "markdown",
   "id": "3bb4e5f2",
   "metadata": {},
   "source": [
    "An RMSE of 1,045,659.23 means that, on average, the model's predictions are about $1,045,659.23 off from the true values. Which is not really desirable "
   ]
  },
  {
   "cell_type": "code",
   "execution_count": 49,
   "id": "9a1a2a2df5de187e",
   "metadata": {
    "ExecuteTime": {
     "end_time": "2023-08-17T07:41:29.114648Z",
     "start_time": "2023-08-17T07:41:29.084017Z"
    },
    "collapsed": false
   },
   "outputs": [
    {
     "data": {
      "text/plain": [
       "771362.8985978672"
      ]
     },
     "execution_count": 49,
     "metadata": {},
     "output_type": "execute_result"
    }
   ],
   "source": [
    "# MAE\n",
    "lin_mae = mean_absolute_error(y_train, housing_pred)\n",
    "lin_mae"
   ]
  },
  {
   "cell_type": "markdown",
   "id": "42f855f8",
   "metadata": {},
   "source": [
    "The MAE is 771,362.90. Which is also quite large. Comparing it with the RMSE. The RMSE focuses on large errors since it squares the individual errors before averaging. Our model occasionally makes large errors. As we are talking about price we would like to keep it as low as possible"
   ]
  },
  {
   "cell_type": "markdown",
   "id": "fbc0b594",
   "metadata": {},
   "source": [
    "Let's try with '`Decision Tree Regressor`'"
   ]
  },
  {
   "cell_type": "code",
   "execution_count": 82,
   "id": "b1678c60de1b1c07",
   "metadata": {
    "ExecuteTime": {
     "end_time": "2023-08-17T07:45:09.912579Z",
     "start_time": "2023-08-17T07:45:09.775432Z"
    },
    "collapsed": false
   },
   "outputs": [
    {
     "data": {
      "text/plain": [
       "3211.0091743119265"
      ]
     },
     "execution_count": 82,
     "metadata": {},
     "output_type": "execute_result"
    }
   ],
   "source": [
    "tree_reg = DecisionTreeRegressor(random_state=42)\n",
    "tree_reg.fit(housing_prepared, y_train)\n",
    "tree_reg_housing_pred = tree_reg.predict(housing_prepared)\n",
    "\n",
    "#MAE\n",
    "mean_absolute_error(y_train, tree_reg_housing_pred)"
   ]
  },
  {
   "cell_type": "code",
   "execution_count": 83,
   "id": "ae50491bac8c8981",
   "metadata": {
    "ExecuteTime": {
     "end_time": "2023-08-17T07:50:07.701753Z",
     "start_time": "2023-08-17T07:50:07.626131Z"
    },
    "collapsed": false
   },
   "outputs": [
    {
     "data": {
      "text/plain": [
       "41751.75104826539"
      ]
     },
     "execution_count": 83,
     "metadata": {},
     "output_type": "execute_result"
    }
   ],
   "source": [
    "#RMSE \n",
    "rmse_tree_reg = np.sqrt(mean_squared_error(y_train, tree_reg_housing_pred))\n",
    "rmse_tree_reg"
   ]
  },
  {
   "cell_type": "markdown",
   "id": "e8a1ddd0",
   "metadata": {},
   "source": [
    "The values are pretty close. Possiblity of overfitting the data."
   ]
  },
  {
   "cell_type": "markdown",
   "id": "bad220a7",
   "metadata": {},
   "source": [
    "## Cross Validation"
   ]
  },
  {
   "cell_type": "code",
   "execution_count": 52,
   "id": "6fbb436270f55006",
   "metadata": {
    "ExecuteTime": {
     "end_time": "2023-08-17T07:51:45.396359Z",
     "start_time": "2023-08-17T07:51:45.299867Z"
    },
    "collapsed": false
   },
   "outputs": [
    {
     "data": {
      "text/plain": [
       "array([1949067.46078034, 1602173.15664183, 1298791.94355318,\n",
       "       1229052.95442171, 1658660.48284589, 1245934.64141656,\n",
       "       1429589.43149488, 1811245.77294193, 1394611.5342257 ,\n",
       "       1925060.74956997])"
      ]
     },
     "execution_count": 52,
     "metadata": {},
     "output_type": "execute_result"
    }
   ],
   "source": [
    "scores = cross_val_score(tree_reg, housing_prepared, y_train, scoring='neg_mean_squared_error', cv=10)\n",
    "tree_rmse_scores = np.sqrt(-scores)\n",
    "tree_rmse_scores"
   ]
  },
  {
   "cell_type": "code",
   "execution_count": 84,
   "id": "856bf704b01e1f3d",
   "metadata": {
    "ExecuteTime": {
     "end_time": "2023-08-17T07:55:02.551795Z",
     "start_time": "2023-08-17T07:55:02.466961Z"
    },
    "collapsed": false
   },
   "outputs": [
    {
     "name": "stdout",
     "output_type": "stream",
     "text": [
      "Scores: [1949067.46078034 1602173.15664183 1298791.94355318 1229052.95442171\n",
      " 1658660.48284589 1245934.64141656 1429589.43149488 1811245.77294193\n",
      " 1394611.5342257  1925060.74956997]\n",
      "Mean: 1554418.8127891973\n",
      "Standard deviation: 260714.62445102909\n"
     ]
    }
   ],
   "source": [
    "def display_scores(scores):\n",
    "    \"\"\"\n",
    "    Display the scores, their mean, and standard deviation.\n",
    "    \n",
    "    Parameters:\n",
    "    - scores: array-like, the evaluation metric scores.\n",
    "    \n",
    "    Returns:\n",
    "    - None. Prints the scores, their mean, and standard deviation.\n",
    "    \n",
    "    \"\"\"\n",
    "    \n",
    "    # Print the array of scores passed to the function\n",
    "    print(\"Scores:\", scores)\n",
    "    \n",
    "    # Print the mean of the scores, giving an average value\n",
    "    print(\"Mean:\", scores.mean())\n",
    "    \n",
    "    # Print the standard deviation to understand the spread or variability of scores around the mean\n",
    "    print(\"Standard deviation:\", scores.std())\n",
    "\n",
    "display_scores(tree_rmse_scores)\n"
   ]
  },
  {
   "cell_type": "markdown",
   "id": "33894062",
   "metadata": {},
   "source": [
    "On average, has an error of about 1.55 million , with a variability of around 260k in its performance across different data subsets. The variability suggests that the model might perform better on certain subsets of the data and worse on others. \n",
    "This could be due to the inherent variability in the data or could be indicative of some overfitting, where the model captures noise or anomalies in certain subsets."
   ]
  },
  {
   "cell_type": "markdown",
   "id": "b3008df7",
   "metadata": {},
   "source": [
    "'`Random Forest Regressor`'"
   ]
  },
  {
   "cell_type": "code",
   "execution_count": 85,
   "id": "5cfad968a9b324d6",
   "metadata": {
    "ExecuteTime": {
     "end_time": "2023-08-17T08:00:17.263777Z",
     "start_time": "2023-08-17T08:00:17.027184Z"
    },
    "collapsed": false
   },
   "outputs": [
    {
     "name": "stdout",
     "output_type": "stream",
     "text": [
      "Scores: [ 3825500.          2199400.          2909141.66666667  2980670.\n",
      "  6931610.          3298050.          4507440.          3294550.\n",
      "  4063118.5         8871123.8         4427080.          7429899.4\n",
      "  5211080.          4960025.          3306590.          7159390.\n",
      "  4307800.          7447615.          3894590.          3743530.\n",
      "  5958330.          4318370.          7224000.          9193415.\n",
      "  6053320.          6266750.          4275876.5         4596200.\n",
      "  5531330.          3545500.          4640090.          3820075.\n",
      "  3463950.          6962130.          4927230.          4045125.\n",
      "  3272535.          5534620.          3845800.          9550555.\n",
      "  2898000.          4249070.          7330435.          5753055.\n",
      "  5502595.          3644690.          2772178.5         2556557.5\n",
      "  2901248.          5692260.          5075350.          3411555.\n",
      "  5533640.          3196900.          6025670.          2894220.\n",
      "  3852380.          5596290.          2766708.          6451970.\n",
      "  4752930.          4476500.          6611780.          4121565.\n",
      "  3828020.          3652285.          3513930.          7718060.\n",
      "  7866145.          4355050.          4774630.          4019960.\n",
      "  4725105.          7765030.          2881060.          2543310.\n",
      "  4346720.          6636770.          4705540.          5193860.\n",
      "  5164950.          8024415.          4636205.          5763870.\n",
      "  3765965.          9061010.          4545520.          3258045.\n",
      "  5297250.          3500350.          9774275.          2435300.\n",
      "  4280290.          4272625.          5121200.          4733190.\n",
      "  4456760.          3378200.          7176400.          4578700.\n",
      "  3250660.          2701650.          3559605.          2539623.33333333\n",
      "  4203920.          3734920.          3042795.          6268010.\n",
      "  5935090.          3396960.          4400900.          3487960.\n",
      "  3483165.          2722300.          5296970.          4257750.\n",
      "  6636035.          5703250.          6065990.          2507330.\n",
      "  2398200.          2296974.16666667  3423700.          8553284.6\n",
      "  2297400.          3235536.5         3762745.          4145540.\n",
      "  5541830.          5594260.          6772080.          3558387.\n",
      "  5886860.          5087320.          4931710.          5027015.\n",
      "  4555670.          3234000.          7071925.          6328770.\n",
      "  3315410.          3193225.          4419450.          4705190.\n",
      "  3653828.5         4743690.          4003370.          4508385.\n",
      "  3107825.          3719100.          3610950.          5188750.\n",
      "  2081450.          5249160.          4630360.          3249400.\n",
      "  5921090.          4584160.          6062700.          6207250.\n",
      "  4162970.          4043620.          2650760.          6030990.\n",
      "  3704190.          6108830.          7395850.          4942140.\n",
      "  3369026.5         4735850.          4442340.          2732800.\n",
      "  2298100.          7676410.          7818650.          4185825.\n",
      "  4502400.          6561520.          5172545.          3769500.\n",
      "  3390660.          7298200.          3464944.          7039509.4\n",
      "  4159820.          3364550.          4273850.          5296130.\n",
      "  5358885.          6294470.          2973810.          8045382.8\n",
      "  3404797.66666667  2737700.          4470695.83333333  7188650.\n",
      "  3042130.          2924600.          4954285.          5464760.\n",
      "  4221280.          3721585.          4971540.          5154660.\n",
      "  7493080.          6004320.          3292310.          8858780.\n",
      "  5292910.          7480900.          5536230.          4492110.\n",
      "  4263630.          4684540.          6226920.          3551660.\n",
      "  3873558.5         5039650.          3542070.          4108650.\n",
      "  3718120.          4260060.          4466560.          3160780.\n",
      "  5510085.          3689280.          8264697.          6432370.\n",
      "  3798130.          5073670.          8346409.4         6154015.\n",
      "  3688128.5         6744850.          5645990.          6070540.\n",
      "  4360510.          4536665.          3747590.          2891707.\n",
      "  4265380.          6234690.          2559760.          3471790.\n",
      "  5668880.          4070780.          4128845.          3488310.\n",
      "  4440170.          2742600.          2934190.          3985485.\n",
      "  4597530.          6814990.          4412695.          2904650.\n",
      "  5306700.          2840320.          4779460.          3002090.\n",
      "  3656170.          5926900.          2635430.          5306420.\n",
      "  6011740.          7709347.8         4333980.          6110090.\n",
      "  9085650.          6119330.          3755080.          7846300.\n",
      "  3192630.          3971835.          6246030.          7967190.\n",
      "  3058650.          4924080.          2959635.          6578355.\n",
      "  6233850.          6981170.          3588060.          4232690.\n",
      "  5016900.          5223470.          5516910.          4562638.5\n",
      "  3479175.          3525830.          7320250.          3051860.\n",
      "  5953080.          4244730.          3027780.          2669030.\n",
      "  6291040.          4403770.          5292834.4         5266450.\n",
      "  3033940.          4377590.          3133410.          6131300.\n",
      "  3759175.          3972990.          7375270.          7961100.\n",
      "  3923850.          6913760.          6683250.          5157600.\n",
      "  3716930.          4921980.          3669610.          3937430.\n",
      "  7777350.          5705035.          3480260.          5522020.\n",
      "  3805410.          3440675.          5950175.         10642678.2\n",
      "  2950080.          3295670.          3358880.          4534460.\n",
      "  3739260.          2999546.66666667  6128430.          4313225.\n",
      "  4052160.          3814300.          4858980.          6754930.\n",
      "  6682060.          5075910.          3094840.          4940215.\n",
      "  4410350.          5966940.          3409560.          3029775.\n",
      "  5544910.          3843630.          2339750.          6318760.\n",
      "  2175378.33333333  4663820.          3007480.          3008600.\n",
      "  6412280.          3287690.          3973550.          6580350.\n",
      "  4598510.          2909141.66666667  7383180.          4544750.\n",
      "  5883920.          3866730.          3336900.          4642400.\n",
      "  4019190.          4649645.          4167030.          4960270.\n",
      "  4308010.          6983410.          3349325.          4858490.\n",
      "  3021900.          5942580.          2786490.          6991180.\n",
      "  4614295.          6881210.          3634610.          8015665.\n",
      "  2503130.          3807727.          4248580.          2528400.\n",
      "  7355880.          5593490.          3313450.          3125080.\n",
      "  3790039.16666667  4218760.          4363800.          4166190.\n",
      "  5947760.          4538030.          4261250.         10573920.\n",
      "  4575060.          2951830.          5765830.          4124330.\n",
      "  3862670.          4214770.          3464370.          3048678.5\n",
      "  3608570.          7477890.          4542440.          4571770.\n",
      "  3728480.          4464740.          3956645.          4215190.\n",
      "  3347549.33333333  9469530.          3404797.66666667  3505390.\n",
      "  4678450.          3898020.         10435180.          4518010.\n",
      "  3347549.33333333  6855199.4         2723210.          5603990.\n",
      "  4555880.          4128740.          5692960.          3447920.\n",
      "  3706430.          5042555.          5478550.          4181660.\n",
      "  7898800.          3727920.          6025180.          3927318.5       ]\n",
      "Mean: 4763369.431269113\n",
      "Standard deviation: 1621560.0230826407\n"
     ]
    }
   ],
   "source": [
    "rf_reg = RandomForestRegressor(n_estimators=100, random_state=42)\n",
    "rf_reg.fit(housing_prepared, y_train)\n",
    "rf_reg_housing_pred = rf_reg.predict(housing_prepared)\n",
    "display_scores(rf_reg_housing_pred)"
   ]
  },
  {
   "cell_type": "markdown",
   "id": "3e1148d3",
   "metadata": {},
   "source": [
    "The RandomForest model has made diverse predictions on the training data, ranging from the lower end to the higher end of housing prices.\n",
    "\n",
    "The average predicted price of a house by the model on the training set is approximately 4.76 million, with a standard deviation of about 1.62 million, suggesting variability in the predicted prices.\n",
    "\n",
    "Given the variability and range of predicted values, it suggests that the dataset has houses from various price categories."
   ]
  },
  {
   "cell_type": "markdown",
   "id": "76a53c68",
   "metadata": {},
   "source": [
    "Cross validation for linear regression "
   ]
  },
  {
   "cell_type": "code",
   "execution_count": 96,
   "id": "ab249703",
   "metadata": {},
   "outputs": [
    {
     "name": "stdout",
     "output_type": "stream",
     "text": [
      "Scores: [1276985.46140334  959834.55264799  851715.81716334 1065583.13790481\n",
      " 1029911.75416201  945085.24268879 1017027.90576126 1137431.41656291\n",
      " 1193261.7312763  1290039.72312594]\n",
      "Mean: 1076687.674269668\n",
      "Standard deviation: 137976.22520038125\n"
     ]
    }
   ],
   "source": [
    "lin_cv = cross_val_score(lin_reg,housing_prepared,y_train,scoring='neg_mean_squared_error',cv=10)\n",
    "lin_cv_scores = np.sqrt(-lin_cv)\n",
    "display_scores(lin_cv_scores)"
   ]
  },
  {
   "cell_type": "markdown",
   "id": "99b0f729",
   "metadata": {},
   "source": [
    "The linear regression model has an average in-sample RMSE of approximately 1.08 million across the 10 folds of cross-validation.\n",
    "\n",
    "There's a variability in its performance, with a standard deviation of around 138,000.\n",
    "\n",
    "The lowest RMSE achieved by the model in any fold was around 851,715 and the highest was around 1,276,985."
   ]
  },
  {
   "cell_type": "markdown",
   "id": "2d6bda35",
   "metadata": {},
   "source": [
    "## Hyperparameter tuning using Grid Search"
   ]
  },
  {
   "cell_type": "code",
   "execution_count": 57,
   "id": "177039dc0d6b7d39",
   "metadata": {
    "ExecuteTime": {
     "end_time": "2023-08-17T09:01:44.922455Z",
     "start_time": "2023-08-17T09:01:44.878986Z"
    },
    "collapsed": false
   },
   "outputs": [],
   "source": [
    "param_grid = [\n",
    "    {'n_estimators': [3, 10, 30], 'max_features': [2, 4, 6, 8]},\n",
    "    {'bootstrap': [False], 'n_estimators': [3, 10], 'max_features': [2, 3, 4]}, ]\n",
    "\n",
    "random_forest_reg = RandomForestRegressor()\n",
    "\n",
    "grid_search = GridSearchCV(random_forest_reg, param_grid, cv=10, scoring='neg_mean_squared_error',\n",
    "                           return_train_score=True)"
   ]
  },
  {
   "cell_type": "code",
   "execution_count": 58,
   "id": "582d7242d9d6122b",
   "metadata": {
    "ExecuteTime": {
     "end_time": "2023-08-17T09:01:50.845859Z",
     "start_time": "2023-08-17T09:01:46.108623Z"
    },
    "collapsed": false
   },
   "outputs": [
    {
     "data": {
      "text/html": [
       "<style>#sk-container-id-2 {color: black;background-color: white;}#sk-container-id-2 pre{padding: 0;}#sk-container-id-2 div.sk-toggleable {background-color: white;}#sk-container-id-2 label.sk-toggleable__label {cursor: pointer;display: block;width: 100%;margin-bottom: 0;padding: 0.3em;box-sizing: border-box;text-align: center;}#sk-container-id-2 label.sk-toggleable__label-arrow:before {content: \"▸\";float: left;margin-right: 0.25em;color: #696969;}#sk-container-id-2 label.sk-toggleable__label-arrow:hover:before {color: black;}#sk-container-id-2 div.sk-estimator:hover label.sk-toggleable__label-arrow:before {color: black;}#sk-container-id-2 div.sk-toggleable__content {max-height: 0;max-width: 0;overflow: hidden;text-align: left;background-color: #f0f8ff;}#sk-container-id-2 div.sk-toggleable__content pre {margin: 0.2em;color: black;border-radius: 0.25em;background-color: #f0f8ff;}#sk-container-id-2 input.sk-toggleable__control:checked~div.sk-toggleable__content {max-height: 200px;max-width: 100%;overflow: auto;}#sk-container-id-2 input.sk-toggleable__control:checked~label.sk-toggleable__label-arrow:before {content: \"▾\";}#sk-container-id-2 div.sk-estimator input.sk-toggleable__control:checked~label.sk-toggleable__label {background-color: #d4ebff;}#sk-container-id-2 div.sk-label input.sk-toggleable__control:checked~label.sk-toggleable__label {background-color: #d4ebff;}#sk-container-id-2 input.sk-hidden--visually {border: 0;clip: rect(1px 1px 1px 1px);clip: rect(1px, 1px, 1px, 1px);height: 1px;margin: -1px;overflow: hidden;padding: 0;position: absolute;width: 1px;}#sk-container-id-2 div.sk-estimator {font-family: monospace;background-color: #f0f8ff;border: 1px dotted black;border-radius: 0.25em;box-sizing: border-box;margin-bottom: 0.5em;}#sk-container-id-2 div.sk-estimator:hover {background-color: #d4ebff;}#sk-container-id-2 div.sk-parallel-item::after {content: \"\";width: 100%;border-bottom: 1px solid gray;flex-grow: 1;}#sk-container-id-2 div.sk-label:hover label.sk-toggleable__label {background-color: #d4ebff;}#sk-container-id-2 div.sk-serial::before {content: \"\";position: absolute;border-left: 1px solid gray;box-sizing: border-box;top: 0;bottom: 0;left: 50%;z-index: 0;}#sk-container-id-2 div.sk-serial {display: flex;flex-direction: column;align-items: center;background-color: white;padding-right: 0.2em;padding-left: 0.2em;position: relative;}#sk-container-id-2 div.sk-item {position: relative;z-index: 1;}#sk-container-id-2 div.sk-parallel {display: flex;align-items: stretch;justify-content: center;background-color: white;position: relative;}#sk-container-id-2 div.sk-item::before, #sk-container-id-2 div.sk-parallel-item::before {content: \"\";position: absolute;border-left: 1px solid gray;box-sizing: border-box;top: 0;bottom: 0;left: 50%;z-index: -1;}#sk-container-id-2 div.sk-parallel-item {display: flex;flex-direction: column;z-index: 1;position: relative;background-color: white;}#sk-container-id-2 div.sk-parallel-item:first-child::after {align-self: flex-end;width: 50%;}#sk-container-id-2 div.sk-parallel-item:last-child::after {align-self: flex-start;width: 50%;}#sk-container-id-2 div.sk-parallel-item:only-child::after {width: 0;}#sk-container-id-2 div.sk-dashed-wrapped {border: 1px dashed gray;margin: 0 0.4em 0.5em 0.4em;box-sizing: border-box;padding-bottom: 0.4em;background-color: white;}#sk-container-id-2 div.sk-label label {font-family: monospace;font-weight: bold;display: inline-block;line-height: 1.2em;}#sk-container-id-2 div.sk-label-container {text-align: center;}#sk-container-id-2 div.sk-container {/* jupyter's `normalize.less` sets `[hidden] { display: none; }` but bootstrap.min.css set `[hidden] { display: none !important; }` so we also need the `!important` here to be able to override the default hidden behavior on the sphinx rendered scikit-learn.org. See: https://github.com/scikit-learn/scikit-learn/issues/21755 */display: inline-block !important;position: relative;}#sk-container-id-2 div.sk-text-repr-fallback {display: none;}</style><div id=\"sk-container-id-2\" class=\"sk-top-container\"><div class=\"sk-text-repr-fallback\"><pre>GridSearchCV(cv=10, estimator=RandomForestRegressor(),\n",
       "             param_grid=[{&#x27;max_features&#x27;: [2, 4, 6, 8],\n",
       "                          &#x27;n_estimators&#x27;: [3, 10, 30]},\n",
       "                         {&#x27;bootstrap&#x27;: [False], &#x27;max_features&#x27;: [2, 3, 4],\n",
       "                          &#x27;n_estimators&#x27;: [3, 10]}],\n",
       "             return_train_score=True, scoring=&#x27;neg_mean_squared_error&#x27;)</pre><b>In a Jupyter environment, please rerun this cell to show the HTML representation or trust the notebook. <br />On GitHub, the HTML representation is unable to render, please try loading this page with nbviewer.org.</b></div><div class=\"sk-container\" hidden><div class=\"sk-item sk-dashed-wrapped\"><div class=\"sk-label-container\"><div class=\"sk-label sk-toggleable\"><input class=\"sk-toggleable__control sk-hidden--visually\" id=\"sk-estimator-id-2\" type=\"checkbox\" ><label for=\"sk-estimator-id-2\" class=\"sk-toggleable__label sk-toggleable__label-arrow\">GridSearchCV</label><div class=\"sk-toggleable__content\"><pre>GridSearchCV(cv=10, estimator=RandomForestRegressor(),\n",
       "             param_grid=[{&#x27;max_features&#x27;: [2, 4, 6, 8],\n",
       "                          &#x27;n_estimators&#x27;: [3, 10, 30]},\n",
       "                         {&#x27;bootstrap&#x27;: [False], &#x27;max_features&#x27;: [2, 3, 4],\n",
       "                          &#x27;n_estimators&#x27;: [3, 10]}],\n",
       "             return_train_score=True, scoring=&#x27;neg_mean_squared_error&#x27;)</pre></div></div></div><div class=\"sk-parallel\"><div class=\"sk-parallel-item\"><div class=\"sk-item\"><div class=\"sk-label-container\"><div class=\"sk-label sk-toggleable\"><input class=\"sk-toggleable__control sk-hidden--visually\" id=\"sk-estimator-id-3\" type=\"checkbox\" ><label for=\"sk-estimator-id-3\" class=\"sk-toggleable__label sk-toggleable__label-arrow\">estimator: RandomForestRegressor</label><div class=\"sk-toggleable__content\"><pre>RandomForestRegressor()</pre></div></div></div><div class=\"sk-serial\"><div class=\"sk-item\"><div class=\"sk-estimator sk-toggleable\"><input class=\"sk-toggleable__control sk-hidden--visually\" id=\"sk-estimator-id-4\" type=\"checkbox\" ><label for=\"sk-estimator-id-4\" class=\"sk-toggleable__label sk-toggleable__label-arrow\">RandomForestRegressor</label><div class=\"sk-toggleable__content\"><pre>RandomForestRegressor()</pre></div></div></div></div></div></div></div></div></div></div>"
      ],
      "text/plain": [
       "GridSearchCV(cv=10, estimator=RandomForestRegressor(),\n",
       "             param_grid=[{'max_features': [2, 4, 6, 8],\n",
       "                          'n_estimators': [3, 10, 30]},\n",
       "                         {'bootstrap': [False], 'max_features': [2, 3, 4],\n",
       "                          'n_estimators': [3, 10]}],\n",
       "             return_train_score=True, scoring='neg_mean_squared_error')"
      ]
     },
     "execution_count": 58,
     "metadata": {},
     "output_type": "execute_result"
    }
   ],
   "source": [
    "grid_search.fit(housing_prepared, y_train)"
   ]
  },
  {
   "cell_type": "code",
   "execution_count": 59,
   "id": "110055e8a6a0f457",
   "metadata": {
    "ExecuteTime": {
     "end_time": "2023-08-17T09:03:02.641512Z",
     "start_time": "2023-08-17T09:03:02.546597Z"
    },
    "collapsed": false
   },
   "outputs": [
    {
     "data": {
      "text/plain": [
       "{'max_features': 2, 'n_estimators': 30}"
      ]
     },
     "execution_count": 59,
     "metadata": {},
     "output_type": "execute_result"
    }
   ],
   "source": [
    "grid_search.best_params_"
   ]
  },
  {
   "cell_type": "code",
   "execution_count": 60,
   "id": "d1a21b168e91f54f",
   "metadata": {
    "ExecuteTime": {
     "end_time": "2023-08-17T09:03:10.393481Z",
     "start_time": "2023-08-17T09:03:10.311845Z"
    },
    "collapsed": false
   },
   "outputs": [
    {
     "data": {
      "text/html": [
       "<style>#sk-container-id-3 {color: black;background-color: white;}#sk-container-id-3 pre{padding: 0;}#sk-container-id-3 div.sk-toggleable {background-color: white;}#sk-container-id-3 label.sk-toggleable__label {cursor: pointer;display: block;width: 100%;margin-bottom: 0;padding: 0.3em;box-sizing: border-box;text-align: center;}#sk-container-id-3 label.sk-toggleable__label-arrow:before {content: \"▸\";float: left;margin-right: 0.25em;color: #696969;}#sk-container-id-3 label.sk-toggleable__label-arrow:hover:before {color: black;}#sk-container-id-3 div.sk-estimator:hover label.sk-toggleable__label-arrow:before {color: black;}#sk-container-id-3 div.sk-toggleable__content {max-height: 0;max-width: 0;overflow: hidden;text-align: left;background-color: #f0f8ff;}#sk-container-id-3 div.sk-toggleable__content pre {margin: 0.2em;color: black;border-radius: 0.25em;background-color: #f0f8ff;}#sk-container-id-3 input.sk-toggleable__control:checked~div.sk-toggleable__content {max-height: 200px;max-width: 100%;overflow: auto;}#sk-container-id-3 input.sk-toggleable__control:checked~label.sk-toggleable__label-arrow:before {content: \"▾\";}#sk-container-id-3 div.sk-estimator input.sk-toggleable__control:checked~label.sk-toggleable__label {background-color: #d4ebff;}#sk-container-id-3 div.sk-label input.sk-toggleable__control:checked~label.sk-toggleable__label {background-color: #d4ebff;}#sk-container-id-3 input.sk-hidden--visually {border: 0;clip: rect(1px 1px 1px 1px);clip: rect(1px, 1px, 1px, 1px);height: 1px;margin: -1px;overflow: hidden;padding: 0;position: absolute;width: 1px;}#sk-container-id-3 div.sk-estimator {font-family: monospace;background-color: #f0f8ff;border: 1px dotted black;border-radius: 0.25em;box-sizing: border-box;margin-bottom: 0.5em;}#sk-container-id-3 div.sk-estimator:hover {background-color: #d4ebff;}#sk-container-id-3 div.sk-parallel-item::after {content: \"\";width: 100%;border-bottom: 1px solid gray;flex-grow: 1;}#sk-container-id-3 div.sk-label:hover label.sk-toggleable__label {background-color: #d4ebff;}#sk-container-id-3 div.sk-serial::before {content: \"\";position: absolute;border-left: 1px solid gray;box-sizing: border-box;top: 0;bottom: 0;left: 50%;z-index: 0;}#sk-container-id-3 div.sk-serial {display: flex;flex-direction: column;align-items: center;background-color: white;padding-right: 0.2em;padding-left: 0.2em;position: relative;}#sk-container-id-3 div.sk-item {position: relative;z-index: 1;}#sk-container-id-3 div.sk-parallel {display: flex;align-items: stretch;justify-content: center;background-color: white;position: relative;}#sk-container-id-3 div.sk-item::before, #sk-container-id-3 div.sk-parallel-item::before {content: \"\";position: absolute;border-left: 1px solid gray;box-sizing: border-box;top: 0;bottom: 0;left: 50%;z-index: -1;}#sk-container-id-3 div.sk-parallel-item {display: flex;flex-direction: column;z-index: 1;position: relative;background-color: white;}#sk-container-id-3 div.sk-parallel-item:first-child::after {align-self: flex-end;width: 50%;}#sk-container-id-3 div.sk-parallel-item:last-child::after {align-self: flex-start;width: 50%;}#sk-container-id-3 div.sk-parallel-item:only-child::after {width: 0;}#sk-container-id-3 div.sk-dashed-wrapped {border: 1px dashed gray;margin: 0 0.4em 0.5em 0.4em;box-sizing: border-box;padding-bottom: 0.4em;background-color: white;}#sk-container-id-3 div.sk-label label {font-family: monospace;font-weight: bold;display: inline-block;line-height: 1.2em;}#sk-container-id-3 div.sk-label-container {text-align: center;}#sk-container-id-3 div.sk-container {/* jupyter's `normalize.less` sets `[hidden] { display: none; }` but bootstrap.min.css set `[hidden] { display: none !important; }` so we also need the `!important` here to be able to override the default hidden behavior on the sphinx rendered scikit-learn.org. See: https://github.com/scikit-learn/scikit-learn/issues/21755 */display: inline-block !important;position: relative;}#sk-container-id-3 div.sk-text-repr-fallback {display: none;}</style><div id=\"sk-container-id-3\" class=\"sk-top-container\"><div class=\"sk-text-repr-fallback\"><pre>RandomForestRegressor(max_features=2, n_estimators=30)</pre><b>In a Jupyter environment, please rerun this cell to show the HTML representation or trust the notebook. <br />On GitHub, the HTML representation is unable to render, please try loading this page with nbviewer.org.</b></div><div class=\"sk-container\" hidden><div class=\"sk-item\"><div class=\"sk-estimator sk-toggleable\"><input class=\"sk-toggleable__control sk-hidden--visually\" id=\"sk-estimator-id-5\" type=\"checkbox\" checked><label for=\"sk-estimator-id-5\" class=\"sk-toggleable__label sk-toggleable__label-arrow\">RandomForestRegressor</label><div class=\"sk-toggleable__content\"><pre>RandomForestRegressor(max_features=2, n_estimators=30)</pre></div></div></div></div></div>"
      ],
      "text/plain": [
       "RandomForestRegressor(max_features=2, n_estimators=30)"
      ]
     },
     "execution_count": 60,
     "metadata": {},
     "output_type": "execute_result"
    }
   ],
   "source": [
    "grid_search.best_estimator_"
   ]
  },
  {
   "cell_type": "code",
   "execution_count": 61,
   "id": "939671aecc82029b",
   "metadata": {
    "ExecuteTime": {
     "end_time": "2023-08-17T09:09:47.620285Z",
     "start_time": "2023-08-17T09:09:47.536382Z"
    },
    "collapsed": false
   },
   "outputs": [
    {
     "name": "stdout",
     "output_type": "stream",
     "text": [
      "1299286.2731872865 {'max_features': 2, 'n_estimators': 3}\n",
      "1202113.7849760845 {'max_features': 2, 'n_estimators': 10}\n",
      "1112675.8191859515 {'max_features': 2, 'n_estimators': 30}\n",
      "1285773.6650374697 {'max_features': 4, 'n_estimators': 3}\n",
      "1156411.624144039 {'max_features': 4, 'n_estimators': 10}\n",
      "1145960.6726551675 {'max_features': 4, 'n_estimators': 30}\n",
      "1456435.865547604 {'max_features': 6, 'n_estimators': 3}\n",
      "1144979.4385364947 {'max_features': 6, 'n_estimators': 10}\n",
      "1117533.7021927019 {'max_features': 6, 'n_estimators': 30}\n",
      "1365084.087681157 {'max_features': 8, 'n_estimators': 3}\n",
      "1207801.3907630073 {'max_features': 8, 'n_estimators': 10}\n",
      "1154292.606844363 {'max_features': 8, 'n_estimators': 30}\n",
      "1294310.8952305862 {'bootstrap': False, 'max_features': 2, 'n_estimators': 3}\n",
      "1172808.0141667416 {'bootstrap': False, 'max_features': 2, 'n_estimators': 10}\n",
      "1340491.9041550935 {'bootstrap': False, 'max_features': 3, 'n_estimators': 3}\n",
      "1184234.3140400536 {'bootstrap': False, 'max_features': 3, 'n_estimators': 10}\n",
      "1363118.925084956 {'bootstrap': False, 'max_features': 4, 'n_estimators': 3}\n",
      "1153435.491738276 {'bootstrap': False, 'max_features': 4, 'n_estimators': 10}\n"
     ]
    }
   ],
   "source": [
    "cv_results = grid_search.cv_results_\n",
    "for mean_score, params in zip(cv_results['mean_test_score'], cv_results[\"params\"]):\n",
    "    print(np.sqrt(-mean_score), params)"
   ]
  },
  {
   "cell_type": "markdown",
   "id": "37992a6c",
   "metadata": {},
   "source": [
    "The combination that yielded the lowest RMSE is {max_features': 2, 'n_estimators': 30} with an RMSE of 1,112,675.82.\n",
    "\n",
    "While the RandomForestRegressor's best combination has a slightly higher RMSE than the average RMSE of the linear regression model, it might still be a good choice given its potential stability"
   ]
  },
  {
   "cell_type": "markdown",
   "id": "416eb6dd",
   "metadata": {},
   "source": [
    "## Hyperparameter tuning using  Randomized Search"
   ]
  },
  {
   "cell_type": "code",
   "execution_count": 64,
   "id": "31ba968140d1a5ac",
   "metadata": {
    "ExecuteTime": {
     "end_time": "2023-08-17T09:17:34.594672Z",
     "start_time": "2023-08-17T09:17:26.029133Z"
    },
    "collapsed": false
   },
   "outputs": [
    {
     "data": {
      "text/html": [
       "<style>#sk-container-id-4 {color: black;background-color: white;}#sk-container-id-4 pre{padding: 0;}#sk-container-id-4 div.sk-toggleable {background-color: white;}#sk-container-id-4 label.sk-toggleable__label {cursor: pointer;display: block;width: 100%;margin-bottom: 0;padding: 0.3em;box-sizing: border-box;text-align: center;}#sk-container-id-4 label.sk-toggleable__label-arrow:before {content: \"▸\";float: left;margin-right: 0.25em;color: #696969;}#sk-container-id-4 label.sk-toggleable__label-arrow:hover:before {color: black;}#sk-container-id-4 div.sk-estimator:hover label.sk-toggleable__label-arrow:before {color: black;}#sk-container-id-4 div.sk-toggleable__content {max-height: 0;max-width: 0;overflow: hidden;text-align: left;background-color: #f0f8ff;}#sk-container-id-4 div.sk-toggleable__content pre {margin: 0.2em;color: black;border-radius: 0.25em;background-color: #f0f8ff;}#sk-container-id-4 input.sk-toggleable__control:checked~div.sk-toggleable__content {max-height: 200px;max-width: 100%;overflow: auto;}#sk-container-id-4 input.sk-toggleable__control:checked~label.sk-toggleable__label-arrow:before {content: \"▾\";}#sk-container-id-4 div.sk-estimator input.sk-toggleable__control:checked~label.sk-toggleable__label {background-color: #d4ebff;}#sk-container-id-4 div.sk-label input.sk-toggleable__control:checked~label.sk-toggleable__label {background-color: #d4ebff;}#sk-container-id-4 input.sk-hidden--visually {border: 0;clip: rect(1px 1px 1px 1px);clip: rect(1px, 1px, 1px, 1px);height: 1px;margin: -1px;overflow: hidden;padding: 0;position: absolute;width: 1px;}#sk-container-id-4 div.sk-estimator {font-family: monospace;background-color: #f0f8ff;border: 1px dotted black;border-radius: 0.25em;box-sizing: border-box;margin-bottom: 0.5em;}#sk-container-id-4 div.sk-estimator:hover {background-color: #d4ebff;}#sk-container-id-4 div.sk-parallel-item::after {content: \"\";width: 100%;border-bottom: 1px solid gray;flex-grow: 1;}#sk-container-id-4 div.sk-label:hover label.sk-toggleable__label {background-color: #d4ebff;}#sk-container-id-4 div.sk-serial::before {content: \"\";position: absolute;border-left: 1px solid gray;box-sizing: border-box;top: 0;bottom: 0;left: 50%;z-index: 0;}#sk-container-id-4 div.sk-serial {display: flex;flex-direction: column;align-items: center;background-color: white;padding-right: 0.2em;padding-left: 0.2em;position: relative;}#sk-container-id-4 div.sk-item {position: relative;z-index: 1;}#sk-container-id-4 div.sk-parallel {display: flex;align-items: stretch;justify-content: center;background-color: white;position: relative;}#sk-container-id-4 div.sk-item::before, #sk-container-id-4 div.sk-parallel-item::before {content: \"\";position: absolute;border-left: 1px solid gray;box-sizing: border-box;top: 0;bottom: 0;left: 50%;z-index: -1;}#sk-container-id-4 div.sk-parallel-item {display: flex;flex-direction: column;z-index: 1;position: relative;background-color: white;}#sk-container-id-4 div.sk-parallel-item:first-child::after {align-self: flex-end;width: 50%;}#sk-container-id-4 div.sk-parallel-item:last-child::after {align-self: flex-start;width: 50%;}#sk-container-id-4 div.sk-parallel-item:only-child::after {width: 0;}#sk-container-id-4 div.sk-dashed-wrapped {border: 1px dashed gray;margin: 0 0.4em 0.5em 0.4em;box-sizing: border-box;padding-bottom: 0.4em;background-color: white;}#sk-container-id-4 div.sk-label label {font-family: monospace;font-weight: bold;display: inline-block;line-height: 1.2em;}#sk-container-id-4 div.sk-label-container {text-align: center;}#sk-container-id-4 div.sk-container {/* jupyter's `normalize.less` sets `[hidden] { display: none; }` but bootstrap.min.css set `[hidden] { display: none !important; }` so we also need the `!important` here to be able to override the default hidden behavior on the sphinx rendered scikit-learn.org. See: https://github.com/scikit-learn/scikit-learn/issues/21755 */display: inline-block !important;position: relative;}#sk-container-id-4 div.sk-text-repr-fallback {display: none;}</style><div id=\"sk-container-id-4\" class=\"sk-top-container\"><div class=\"sk-text-repr-fallback\"><pre>RandomizedSearchCV(cv=5, estimator=RandomForestRegressor(random_state=42),\n",
       "                   param_distributions={&#x27;max_features&#x27;: &lt;scipy.stats._distn_infrastructure.rv_discrete_frozen object at 0x7febebfacf70&gt;,\n",
       "                                        &#x27;n_estimators&#x27;: &lt;scipy.stats._distn_infrastructure.rv_discrete_frozen object at 0x7febebfae290&gt;},\n",
       "                   random_state=42, scoring=&#x27;neg_mean_squared_error&#x27;)</pre><b>In a Jupyter environment, please rerun this cell to show the HTML representation or trust the notebook. <br />On GitHub, the HTML representation is unable to render, please try loading this page with nbviewer.org.</b></div><div class=\"sk-container\" hidden><div class=\"sk-item sk-dashed-wrapped\"><div class=\"sk-label-container\"><div class=\"sk-label sk-toggleable\"><input class=\"sk-toggleable__control sk-hidden--visually\" id=\"sk-estimator-id-6\" type=\"checkbox\" ><label for=\"sk-estimator-id-6\" class=\"sk-toggleable__label sk-toggleable__label-arrow\">RandomizedSearchCV</label><div class=\"sk-toggleable__content\"><pre>RandomizedSearchCV(cv=5, estimator=RandomForestRegressor(random_state=42),\n",
       "                   param_distributions={&#x27;max_features&#x27;: &lt;scipy.stats._distn_infrastructure.rv_discrete_frozen object at 0x7febebfacf70&gt;,\n",
       "                                        &#x27;n_estimators&#x27;: &lt;scipy.stats._distn_infrastructure.rv_discrete_frozen object at 0x7febebfae290&gt;},\n",
       "                   random_state=42, scoring=&#x27;neg_mean_squared_error&#x27;)</pre></div></div></div><div class=\"sk-parallel\"><div class=\"sk-parallel-item\"><div class=\"sk-item\"><div class=\"sk-label-container\"><div class=\"sk-label sk-toggleable\"><input class=\"sk-toggleable__control sk-hidden--visually\" id=\"sk-estimator-id-7\" type=\"checkbox\" ><label for=\"sk-estimator-id-7\" class=\"sk-toggleable__label sk-toggleable__label-arrow\">estimator: RandomForestRegressor</label><div class=\"sk-toggleable__content\"><pre>RandomForestRegressor(random_state=42)</pre></div></div></div><div class=\"sk-serial\"><div class=\"sk-item\"><div class=\"sk-estimator sk-toggleable\"><input class=\"sk-toggleable__control sk-hidden--visually\" id=\"sk-estimator-id-8\" type=\"checkbox\" ><label for=\"sk-estimator-id-8\" class=\"sk-toggleable__label sk-toggleable__label-arrow\">RandomForestRegressor</label><div class=\"sk-toggleable__content\"><pre>RandomForestRegressor(random_state=42)</pre></div></div></div></div></div></div></div></div></div></div>"
      ],
      "text/plain": [
       "RandomizedSearchCV(cv=5, estimator=RandomForestRegressor(random_state=42),\n",
       "                   param_distributions={'max_features': <scipy.stats._distn_infrastructure.rv_discrete_frozen object at 0x7febebfacf70>,\n",
       "                                        'n_estimators': <scipy.stats._distn_infrastructure.rv_discrete_frozen object at 0x7febebfae290>},\n",
       "                   random_state=42, scoring='neg_mean_squared_error')"
      ]
     },
     "execution_count": 64,
     "metadata": {},
     "output_type": "execute_result"
    }
   ],
   "source": [
    "param_distribs = {\n",
    "                 'n_estimators': randint(low=1, high=200),\n",
    "                  'max_features': randint(low=1, high=8), }\n",
    "\n",
    "forest_reg = RandomForestRegressor(random_state=42)\n",
    "\n",
    "rnd_search = RandomizedSearchCV(forest_reg,param_distributions=param_distribs,n_iter=10,cv=5,scoring='neg_mean_squared_error',random_state=42)\n",
    "\n",
    "rnd_search.fit(housing_prepared,y_train)"
   ]
  },
  {
   "cell_type": "code",
   "execution_count": 65,
   "id": "602cb30b0ed7dd51",
   "metadata": {
    "ExecuteTime": {
     "end_time": "2023-08-17T09:20:46.087788Z",
     "start_time": "2023-08-17T09:20:45.995954Z"
    },
    "collapsed": false
   },
   "outputs": [
    {
     "name": "stdout",
     "output_type": "stream",
     "text": [
      "1126246.7292754182 {'max_features': 7, 'n_estimators': 180}\n",
      "1134419.247841061 {'max_features': 5, 'n_estimators': 15}\n",
      "1133884.1923503608 {'max_features': 3, 'n_estimators': 72}\n",
      "1130680.187814491 {'max_features': 5, 'n_estimators': 21}\n",
      "1130439.943296811 {'max_features': 7, 'n_estimators': 122}\n",
      "1134116.943278711 {'max_features': 3, 'n_estimators': 75}\n",
      "1130540.7750978088 {'max_features': 3, 'n_estimators': 88}\n",
      "1126096.6653943353 {'max_features': 5, 'n_estimators': 100}\n",
      "1128528.0614909867 {'max_features': 3, 'n_estimators': 150}\n",
      "1478755.8294175642 {'max_features': 5, 'n_estimators': 2}\n"
     ]
    }
   ],
   "source": [
    "rnd_search_results = rnd_search.cv_results_\n",
    "\n",
    "for mean_score, params in zip(rnd_search_results['mean_test_score'],rnd_search_results[\"params\"]):\n",
    "    print(np.sqrt(-mean_score),params)"
   ]
  },
  {
   "cell_type": "markdown",
   "id": "572f4361",
   "metadata": {},
   "source": [
    "The best combination from the random search yields an RMSE of 1,126,096.67 with max_features: 5 and n_estimators: 100"
   ]
  },
  {
   "cell_type": "markdown",
   "id": "2a1c962b",
   "metadata": {},
   "source": [
    "Comparison to Previous Models:\n",
    "\n",
    "Best RandomForest from GridSearchCV:\n",
    "\n",
    "RMSE: 1,112,675.82 with max_features: 2 and n_estimators: 30.\n",
    "\n",
    "Linear Regression:\n",
    "\n",
    "Average RMSE across 10-fold cross-validation: 1,076,687.67.\n",
    "\n",
    "From the RandomizedSearchCV results, the RMSE for the best model is slightly higher than both the previous best RandomForest and the Linear Regression model. This suggests that the previous GridSearchCV already found a pretty good set of hyperparameters, and the RandomizedSearchCV, in its current configuration, did not find a significantly better combination.\n",
    "\n"
   ]
  },
  {
   "cell_type": "code",
   "execution_count": 67,
   "id": "ed0fe8296556bbff",
   "metadata": {
    "ExecuteTime": {
     "end_time": "2023-08-17T09:59:28.544444Z",
     "start_time": "2023-08-17T09:59:28.434240Z"
    },
    "collapsed": false
   },
   "outputs": [],
   "source": [
    "feature_importances = grid_search.best_estimator_.feature_importances_"
   ]
  },
  {
   "cell_type": "code",
   "execution_count": 68,
   "id": "3ce75a77cf2efa2f",
   "metadata": {
    "ExecuteTime": {
     "end_time": "2023-08-17T09:59:29.003617Z",
     "start_time": "2023-08-17T09:59:28.928191Z"
    },
    "collapsed": false
   },
   "outputs": [
    {
     "name": "stdout",
     "output_type": "stream",
     "text": [
      "price : 0.3102208497547837\n",
      "bedrooms : 0.12350915154755672\n",
      "stories : 0.09505422989960487\n",
      "airconditioning : 0.08497639622691441\n",
      "bathrooms : 0.07696610518579729\n",
      "area : 0.07173081467772238\n",
      "prefarea : 0.07108829640209545\n",
      "parking : 0.04175469889589163\n",
      "basement : 0.03723280772614251\n",
      "guestroom : 0.03394736730566931\n",
      "mainroad : 0.028463853505733674\n",
      "hotwaterheating : 0.025055428872088094\n"
     ]
    }
   ],
   "source": [
    "attributes = housing.columns\n",
    "\n",
    "# Pair each feature with its importance and sort them\n",
    "sorted_feature_importances = sorted(zip(feature_importances, attributes), reverse=True)\n",
    "\n",
    "# Display the sorted feature importances\n",
    "for importance, name in sorted_feature_importances:\n",
    "    print(name, \":\", importance)\n"
   ]
  },
  {
   "cell_type": "markdown",
   "id": "a6567113",
   "metadata": {},
   "source": [
    "Predicting the test set using our best model which was from the grid search"
   ]
  },
  {
   "cell_type": "code",
   "execution_count": 98,
   "id": "aea06372bb47b3ff",
   "metadata": {
    "ExecuteTime": {
     "end_time": "2023-08-17T11:05:23.583292Z",
     "start_time": "2023-08-17T11:05:23.487806Z"
    },
    "collapsed": false
   },
   "outputs": [],
   "source": [
    "final_model = grid_search.best_estimator_\n",
    "\n",
    "X_test = strat_test_set.drop('price',axis=1)\n",
    "y_test = strat_test_set['price'].copy()\n",
    "\n",
    "X_test_prepared = full_pipe.transform(X_test)\n",
    "final_preds = final_model.predict(X_test_prepared)\n",
    "\n",
    "final_mse  = mean_squared_error(y_test,final_preds)\n",
    "final_rmse  = mean_squared_error(y_test,final_preds,squared=False)"
   ]
  },
  {
   "cell_type": "code",
   "execution_count": 70,
   "id": "17a5787106cef842",
   "metadata": {
    "ExecuteTime": {
     "end_time": "2023-08-17T11:05:28.671669Z",
     "start_time": "2023-08-17T11:05:28.600612Z"
    },
    "collapsed": false
   },
   "outputs": [
    {
     "data": {
      "text/plain": [
       "(1166869569557.43, 1080217.3714384665)"
      ]
     },
     "execution_count": 70,
     "metadata": {},
     "output_type": "execute_result"
    }
   ],
   "source": [
    "final_mse,final_rmse"
   ]
  },
  {
   "cell_type": "code",
   "execution_count": 100,
   "id": "c28ef1e8ca903067",
   "metadata": {
    "ExecuteTime": {
     "end_time": "2023-08-17T11:14:45.073850Z",
     "start_time": "2023-08-17T11:14:45.000879Z"
    },
    "collapsed": false
   },
   "outputs": [
    {
     "data": {
      "text/plain": [
       "array([ 815847.48154924, 1291561.85526076])"
      ]
     },
     "execution_count": 100,
     "metadata": {},
     "output_type": "execute_result"
    }
   ],
   "source": [
    "# Calculating the confidence intervals\n",
    "\n",
    "confidence = 0.95\n",
    "squared_errors = (final_preds-y_test)**2\n",
    "np.sqrt(stats.t.interval(confidence,len(squared_errors)-1,loc=squared_errors.mean(),scale=stats.sem(squared_errors)))\n"
   ]
  },
  {
   "cell_type": "markdown",
   "id": "7aa7348f",
   "metadata": {},
   "source": [
    "## Conclusion:\n",
    "\n",
    "Linear Regression Model:\n",
    "* Training Data RMSE: 1,045,659.231,045,659.23\n",
    "\n",
    "Cross-validation RMSE: \n",
    "* Mean 1,076,687.671,076,687.67, \n",
    "* Standard deviation 137,976.23137,976.23\n",
    "\n",
    "Decision Tree Regressor:\n",
    "* Training Data RMSE: 41,751.7541,751.75\n",
    "\n",
    "Random Forest Regressor (GridSearchCV):\n",
    "* Best Parameters from Grid Search: {'max_features': 2, 'n_estimators': 30} \n",
    "* Training Data RMSE: 1,112,675.821,112,675.82\n",
    "* Test Data RMSE: 1,080,217.371,080,217.37\n",
    "\n",
    "Random Forest Regressor (Default with 100 estimators):\n",
    "* Training Data RMSE: (using the difference between predictions and actual values, and not through cross-validation) \n",
    "* Mean 4,763,369.434,763,369.43, \n",
    "* Standard deviation 1,621,560.021,621,560.02\n",
    "\n",
    "Random Forest Regressor (RandomizedSearchCV):\n",
    "Best Parameters from Random Search: {'max_features': 5, 'n_estimators': 100} \n",
    "*  RMSE 1,126,096.671,126,096.67\n",
    "\n",
    "In summary, the Random Forest Regressor with parameters from GridSearchCV performed the best on the test data with an RMSE of 1,080,217.371,080,217.37. \n",
    "\n",
    "The Decision Tree Regressor appears to have a very low RMSE on the training data, which may indicate overfitting since its performance was significantly worse during cross-validation.\n",
    "\n",
    "Based on the provided 95% confidence interval for RMSE, we are 95% confident that the true RMSE of our predictive model, with respect to the population from which our sample is drawn, lies between approximately 815,847.48 and 1,291,561.86"
   ]
  },
  {
   "cell_type": "markdown",
   "id": "3ec756cd",
   "metadata": {},
   "source": []
  }
 ],
 "metadata": {
  "kernelspec": {
   "display_name": "Python 3 (ipykernel)",
   "language": "python",
   "name": "python3"
  },
  "language_info": {
   "codemirror_mode": {
    "name": "ipython",
    "version": 3
   },
   "file_extension": ".py",
   "mimetype": "text/x-python",
   "name": "python",
   "nbconvert_exporter": "python",
   "pygments_lexer": "ipython3",
   "version": "3.10.9"
  }
 },
 "nbformat": 4,
 "nbformat_minor": 5
}
